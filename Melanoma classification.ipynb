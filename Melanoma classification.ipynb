{
 "cells": [
  {
   "cell_type": "markdown",
   "metadata": {},
   "source": [
    "This data set is a clinical analise about **melanoma** diagnoses<p>\n",
    "Legends for Clinical Diagnosis:<br>\n",
    "   0 - Common Nevus;<br>\n",
    "   1 - Atypical Nevus;<br>\n",
    "   2 - Melanoma.<p>\n",
    "\n",
    "**Binary Classification Melanoma (2) or not (0)**\n",
    "\n",
    "Legends for Asymmetry:<br>\n",
    "   0 - Fully Symmetric;<br>\n",
    "   1 - Symetric in 1 axe;<br>\n",
    "   2 - Fully Asymmetric;<p>\n",
    "\n",
    "Legends for Pigment Network, Dots/Globules, Streaks, Regression Areas, and Blue-Whitish Veil: <br>\n",
    "   A  - Absent(2);<br>\n",
    "   AT - Atypical(0);<br>\n",
    "   P  - Present(0);<br>\n",
    "   T  - Typical(1).<p>\n",
    "\n",
    "Legends for Colors: <br>\n",
    "   1 - White;<br>\n",
    "   2 - Red;<br>\n",
    "   3 - Light-Brown;<br>\n",
    "   4 - Dark-Brown;<br>\n",
    "   5 - Blue-Gray;<br>\n",
    "   6 - Black.<br>"
   ]
  },
  {
   "cell_type": "code",
   "execution_count": 1,
   "metadata": {
    "_cell_guid": "b1076dfc-b9ad-4769-8c92-a6c4dae69d19",
    "_uuid": "8f2839f25d086af736a60e9eeb907d3b93b6e0e5",
    "execution": {
     "iopub.execute_input": "2021-10-07T17:32:38.116365Z",
     "iopub.status.busy": "2021-10-07T17:32:38.115922Z",
     "iopub.status.idle": "2021-10-07T17:32:38.122898Z",
     "shell.execute_reply": "2021-10-07T17:32:38.122015Z",
     "shell.execute_reply.started": "2021-10-07T17:32:38.116327Z"
    }
   },
   "outputs": [],
   "source": [
    "import numpy as np \n",
    "import os\n",
    "import pandas as pd\n",
    "\n",
    "from sklearn import preprocessing\n",
    "from sklearn.model_selection import train_test_split\n",
    "from sklearn.metrics import accuracy_score\n",
    "\n",
    "import tensorflow as tf\n",
    "from tensorflow.keras.models import Sequential\n",
    "from tensorflow.keras.preprocessing.image import ImageDataGenerator\n",
    "from tensorflow.keras.layers import Dense, Conv2D , MaxPool2D , Flatten , Dropout , Activation\n",
    "from tensorflow.keras.optimizers import Adam\n",
    "from tensorflow.keras import optimizers\n",
    "from keras.callbacks import ModelCheckpoint, EarlyStopping"
   ]
  },
  {
   "cell_type": "code",
   "execution_count": 2,
   "metadata": {
    "execution": {
     "iopub.execute_input": "2021-10-07T17:10:45.147848Z",
     "iopub.status.busy": "2021-10-07T17:10:45.146752Z",
     "iopub.status.idle": "2021-10-07T17:10:45.158480Z",
     "shell.execute_reply": "2021-10-07T17:10:45.157414Z",
     "shell.execute_reply.started": "2021-10-07T17:10:45.147778Z"
    }
   },
   "outputs": [],
   "source": [
    "#reading file\n",
    "def convertTxtToList():\n",
    "    f=open(\"PH2_dataset.txt\", \"r\")\n",
    "    lines = f.readlines()\n",
    "    returnList = []\n",
    "    for line in lines:\n",
    "        line = line.replace('||', '|')\n",
    "        line = line.replace('\\n', '')\n",
    "        lista = list(str(line))\n",
    "        if len(lista) > 0:\n",
    "            lista[0] = ''\n",
    "            lista[len(lista)-1] = ''\n",
    "            newLine = ''.join(lista)\n",
    "            arr = newLine.split('|')\n",
    "            arr = [x.strip() for x in arr]\n",
    "            if len(arr) > 1:\n",
    "                returnList.append(arr)\n",
    "        \n",
    "    f.close()   \n",
    "    return returnList"
   ]
  },
  {
   "cell_type": "code",
   "execution_count": 3,
   "metadata": {
    "execution": {
     "iopub.execute_input": "2021-10-07T17:10:45.159967Z",
     "iopub.status.busy": "2021-10-07T17:10:45.159675Z",
     "iopub.status.idle": "2021-10-07T17:10:45.186828Z",
     "shell.execute_reply": "2021-10-07T17:10:45.185901Z",
     "shell.execute_reply.started": "2021-10-07T17:10:45.159930Z"
    }
   },
   "outputs": [],
   "source": [
    "#loading list\n",
    "txtFile = convertTxtToList()"
   ]
  },
  {
   "cell_type": "code",
   "execution_count": 4,
   "metadata": {
    "execution": {
     "iopub.execute_input": "2021-10-07T17:10:45.384014Z",
     "iopub.status.busy": "2021-10-07T17:10:45.383678Z",
     "iopub.status.idle": "2021-10-07T17:10:45.393094Z",
     "shell.execute_reply": "2021-10-07T17:10:45.392128Z",
     "shell.execute_reply.started": "2021-10-07T17:10:45.383980Z"
    }
   },
   "outputs": [
    {
     "data": {
      "text/plain": [
       "201"
      ]
     },
     "execution_count": 4,
     "metadata": {},
     "output_type": "execute_result"
    }
   ],
   "source": [
    "len(txtFile)"
   ]
  },
  {
   "cell_type": "code",
   "execution_count": 5,
   "metadata": {
    "execution": {
     "iopub.execute_input": "2021-10-07T17:10:46.427959Z",
     "iopub.status.busy": "2021-10-07T17:10:46.427462Z",
     "iopub.status.idle": "2021-10-07T17:10:46.464900Z",
     "shell.execute_reply": "2021-10-07T17:10:46.464247Z",
     "shell.execute_reply.started": "2021-10-07T17:10:46.427917Z"
    },
    "scrolled": true
   },
   "outputs": [
    {
     "data": {
      "text/plain": [
       "[['Name',\n",
       "  'Histological Diagnosis',\n",
       "  'Clinical Diagnosis',\n",
       "  'Asymmetry',\n",
       "  'Pigment Network',\n",
       "  'Dots/Globules',\n",
       "  'Streaks',\n",
       "  'Regression Areas',\n",
       "  'Blue-Whitish Veil',\n",
       "  'Colors'],\n",
       " ['IMD003', '', '0', '0', 'T', 'A', 'A', 'A', 'A', '4'],\n",
       " ['IMD009', '', '0', '0', 'T', 'A', 'A', 'A', 'A', '3'],\n",
       " ['IMD016', '', '0', '0', 'T', 'T', 'A', 'A', 'A', '3  4'],\n",
       " ['IMD022', '', '0', '0', 'T', 'A', 'A', 'A', 'A', '3'],\n",
       " ['IMD024', '', '0', '0', 'T', 'A', 'A', 'A', 'A', '3  4'],\n",
       " ['IMD025', '', '0', '0', 'T', 'T', 'A', 'A', 'A', '3'],\n",
       " ['IMD035', '', '0', '2', 'T', 'A', 'A', 'A', 'A', '2  3'],\n",
       " ['IMD038', '', '0', '0', 'T', 'T', 'A', 'A', 'A', '4  6'],\n",
       " ['IMD042', '', '0', '0', 'T', 'T', 'A', 'A', 'A', '3  4'],\n",
       " ['IMD044', '', '0', '0', 'T', 'T', 'A', 'A', 'A', '4  5'],\n",
       " ['IMD045', '', '0', '0', 'T', 'T', 'A', 'A', 'A', '3'],\n",
       " ['IMD050', '', '0', '0', 'T', 'T', 'A', 'A', 'A', '3'],\n",
       " ['IMD092', '', '0', '0', 'T', 'T', 'A', 'A', 'A', '3  4'],\n",
       " ['IMD101', '', '0', '0', 'T', 'A', 'A', 'A', 'A', '3'],\n",
       " ['IMD103', '', '0', '0', 'T', 'T', 'A', 'A', 'A', '3  4'],\n",
       " ['IMD112', '', '0', '0', 'T', 'T', 'A', 'A', 'A', '2  3  4'],\n",
       " ['IMD118', '', '0', '0', 'T', 'T', 'A', 'A', 'A', '3  4'],\n",
       " ['IMD125', '', '0', '0', 'T', 'T', 'A', 'A', 'A', '3  4'],\n",
       " ['IMD132', '', '0', '0', 'T', 'T', 'A', 'A', 'A', '3  4'],\n",
       " ['IMD134', '', '0', '0', 'T', 'T', 'A', 'A', 'A', '2  3  4'],\n",
       " ['IMD135', '', '0', '0', 'T', 'T', 'A', 'A', 'A', '3  4'],\n",
       " ['IMD144', '', '0', '0', 'T', 'T', 'A', 'A', 'A', '3  4'],\n",
       " ['IMD146', '', '0', '1', 'T', 'A', 'P', 'A', 'A', '2  3  4'],\n",
       " ['IMD147', '', '0', '0', 'T', 'T', 'A', 'A', 'A', '3'],\n",
       " ['IMD150', '', '0', '0', 'T', 'A', 'A', 'A', 'A', '1  5'],\n",
       " ['IMD152', '', '0', '0', 'T', 'T', 'A', 'A', 'A', '3  4'],\n",
       " ['IMD156', '', '0', '0', 'T', 'T', 'A', 'A', 'A', '3'],\n",
       " ['IMD159', '', '0', '0', 'T', 'T', 'A', 'A', 'A', '3'],\n",
       " ['IMD161', '', '0', '0', 'T', 'T', 'A', 'A', 'A', '3  4'],\n",
       " ['IMD162', '', '0', '0', 'T', 'T', 'A', 'A', 'A', '3  4'],\n",
       " ['IMD175', '', '0', '0', 'T', 'T', 'A', 'A', 'A', '3  4'],\n",
       " ['IMD177', '', '0', '0', 'T', 'A', 'A', 'A', 'A', '3  4'],\n",
       " ['IMD182', '', '0', '0', 'T', 'T', 'A', 'A', 'A', '3  4'],\n",
       " ['IMD198', '', '0', '0', 'T', 'T', 'A', 'A', 'A', '3'],\n",
       " ['IMD200', '', '0', '0', 'T', 'T', 'A', 'A', 'A', '3'],\n",
       " ['IMD010', '', '0', '0', 'T', 'A', 'A', 'A', 'A', '3'],\n",
       " ['IMD017', '', '0', '0', 'T', 'T', 'A', 'A', 'A', '3  4'],\n",
       " ['IMD020', '', '0', '0', 'T', 'T', 'A', 'A', 'A', '4  6'],\n",
       " ['IMD039', '', '0', '0', 'T', 'T', 'A', 'A', 'A', '4'],\n",
       " ['IMD041', '', '0', '0', 'T', 'T', 'A', 'A', 'A', '4  6'],\n",
       " ['IMD105', '', '0', '0', 'T', 'T', 'A', 'A', 'A', '3  4'],\n",
       " ['IMD107', '', '0', '0', 'T', 'T', 'A', 'A', 'A', '3  4'],\n",
       " ['IMD108', '', '0', '1', 'T', 'T', 'A', 'A', 'A', '3  4'],\n",
       " ['IMD133', '', '0', '0', 'T', 'A', 'A', 'A', 'A', '3'],\n",
       " ['IMD142', '', '0', '0', 'T', 'T', 'A', 'A', 'A', '3  4'],\n",
       " ['IMD143', '', '0', '0', 'T', 'T', 'A', 'A', 'A', '3  4'],\n",
       " ['IMD160', '', '0', '0', 'T', 'T', 'A', 'A', 'A', '3  4'],\n",
       " ['IMD173', '', '0', '0', 'T', 'T', 'A', 'A', 'A', '3'],\n",
       " ['IMD176', '', '0', '0', 'T', 'AT', 'A', 'A', 'A', '3  4'],\n",
       " ['IMD196', '', '0', '0', 'T', 'A', 'A', 'A', 'A', '3'],\n",
       " ['IMD197', '', '0', '0', 'T', 'AT', 'A', 'A', 'A', '4  6'],\n",
       " ['IMD199', '', '0', '0', 'T', 'T', 'A', 'A', 'A', '3'],\n",
       " ['IMD203', '', '0', '0', 'T', 'T', 'A', 'A', 'A', '3  4'],\n",
       " ['IMD204', '', '0', '0', 'T', 'AT', 'A', 'A', 'A', '3  4'],\n",
       " ['IMD206', '', '0', '0', 'T', 'T', 'A', 'A', 'A', '3  4'],\n",
       " ['IMD207', '', '0', '0', 'T', 'T', 'A', 'A', 'A', '3  4'],\n",
       " ['IMD208', '', '0', '0', 'T', 'T', 'A', 'A', 'A', '3  4'],\n",
       " ['IMD364', '', '0', '0', 'T', 'A', 'A', 'A', 'A', '3  4'],\n",
       " ['IMD365', '', '0', '0', 'T', 'A', 'A', 'A', 'A', '3  4'],\n",
       " ['IMD367', '', '0', '0', 'T', 'A', 'A', 'A', 'A', '4'],\n",
       " ['IMD371', '', '0', '0', 'T', 'A', 'A', 'A', 'A', '4'],\n",
       " ['IMD372', '', '0', '0', 'T', 'A', 'A', 'A', 'A', '3'],\n",
       " ['IMD374', '', '0', '0', 'T', 'A', 'A', 'A', 'A', '3  4'],\n",
       " ['IMD375', '', '0', '0', 'T', 'A', 'A', 'A', 'A', '4'],\n",
       " ['IMD378', '', '0', '0', 'T', 'T', 'A', 'A', 'A', '3  4'],\n",
       " ['IMD379', '', '0', '0', 'T', 'A', 'A', 'A', 'A', '3  4'],\n",
       " ['IMD380', '', '0', '0', 'T', 'A', 'A', 'A', 'A', '4'],\n",
       " ['IMD381', '', '0', '0', 'T', 'T', 'A', 'A', 'A', '3'],\n",
       " ['IMD383', '', '0', '0', 'T', 'A', 'A', 'A', 'A', '3'],\n",
       " ['IMD384', '', '0', '0', 'T', 'A', 'A', 'A', 'A', '4'],\n",
       " ['IMD385', '', '0', '0', 'T', 'T', 'A', 'A', 'A', '3  4'],\n",
       " ['IMD389', '', '0', '0', 'T', 'T', 'A', 'A', 'A', '4'],\n",
       " ['IMD390', '', '0', '0', 'T', 'A', 'A', 'A', 'A', '3'],\n",
       " ['IMD392', '', '0', '0', 'T', 'AT', 'A', 'A', 'A', '4'],\n",
       " ['IMD394', '', '0', '0', 'T', 'A', 'A', 'A', 'A', '4'],\n",
       " ['IMD395', '', '0', '0', 'T', 'A', 'A', 'A', 'A', '4'],\n",
       " ['IMD397', '', '0', '0', 'T', 'AT', 'A', 'A', 'A', '4'],\n",
       " ['IMD399', '', '0', '0', 'T', 'A', 'A', 'A', 'A', '3  4'],\n",
       " ['IMD400', '', '0', '0', 'T', 'A', 'A', 'A', 'A', '4'],\n",
       " ['IMD402', '', '0', '0', 'T', 'A', 'A', 'A', 'A', '4'],\n",
       " ['IMD002', '', '1', '1', 'AT', 'A', 'A', 'A', 'A', '3  4'],\n",
       " ['IMD004', '', '1', '1', 'AT', 'A', 'A', 'A', 'A', '3  4'],\n",
       " ['IMD013', '', '1', '1', 'AT', 'A', 'A', 'A', 'A', '3'],\n",
       " ['IMD015', '', '1', '0', 'AT', 'A', 'A', 'A', 'A', '2  5'],\n",
       " ['IMD019', '', '1', '0', 'AT', 'T', 'A', 'A', 'A', '4'],\n",
       " ['IMD021', '', '1', '0', 'AT', 'T', 'A', 'A', 'A', '4  6'],\n",
       " ['IMD027', '', '1', '0', 'AT', 'T', 'A', 'A', 'A', '3  4'],\n",
       " ['IMD030', '', '1', '0', 'AT', 'A', 'A', 'A', 'A', '3  4'],\n",
       " ['IMD032', '', '1', '1', 'AT', 'A', 'A', 'A', 'A', '3  4'],\n",
       " ['IMD033', '', '1', '2', 'AT', 'T', 'A', 'A', 'A', '3  6'],\n",
       " ['IMD037', '', '1', '1', 'AT', 'AT', 'A', 'A', 'A', '3  4'],\n",
       " ['IMD040', '', '1', '1', 'AT', 'T', 'A', 'A', 'A', '3  4'],\n",
       " ['IMD043', '', '1', '1', 'AT', 'T', 'A', 'A', 'A', '4  6'],\n",
       " ['IMD047', '', '1', '0', 'AT', 'A', 'A', 'A', 'A', '3  4'],\n",
       " ['IMD048', '', '1', '1', 'AT', 'AT', 'A', 'A', 'A', '3'],\n",
       " ['IMD049', '', '1', '1', 'AT', 'A', 'A', 'A', 'P', '4  5'],\n",
       " ['IMD057', 'Dysplastic Nevus', '1', '0', 'AT', 'A', 'A', 'A', 'A', '4  6'],\n",
       " ['IMD075', '', '1', '2', 'AT', 'AT', 'A', 'A', 'A', '4  6'],\n",
       " ['IMD076', 'Blue Nevus', '1', '2', 'AT', 'A', 'A', 'A', 'A', '5'],\n",
       " ['IMD078', 'Intradermal Nevus', '1', '2', 'AT', 'AT', 'A', 'A', 'A', '6'],\n",
       " ['IMD120', '', '1', '0', 'AT', 'A', 'A', 'A', 'A', '3  4'],\n",
       " ['IMD126', '', '1', '1', 'AT', 'A', 'A', 'A', 'A', '3  6'],\n",
       " ['IMD137', '', '1', '1', 'AT', 'AT', 'A', 'A', 'A', '3  4'],\n",
       " ['IMD138', '', '1', '1', 'AT', 'AT', 'A', 'A', 'A', '3  4'],\n",
       " ['IMD139', '', '1', '0', 'AT', 'AT', 'P', 'A', 'A', '4  6'],\n",
       " ['IMD140', '', '1', '0', 'AT', 'A', 'P', 'A', 'A', '4  6'],\n",
       " ['IMD149', '', '1', '0', 'AT', 'T', 'A', 'A', 'A', '1  4  5'],\n",
       " ['IMD153', '', '1', '1', 'AT', 'A', 'A', 'A', 'A', '1  3'],\n",
       " ['IMD157', '', '1', '2', 'AT', 'A', 'A', 'A', 'A', '3  5'],\n",
       " ['IMD164', '', '1', '0', 'AT', 'AT', 'A', 'A', 'A', '3  4'],\n",
       " ['IMD166', '', '1', '0', 'AT', 'AT', 'A', 'A', 'A', '3  4'],\n",
       " ['IMD169',\n",
       "  'Dysplastic Nevus',\n",
       "  '1',\n",
       "  '0',\n",
       "  'AT',\n",
       "  'AT',\n",
       "  'P',\n",
       "  'A',\n",
       "  'P',\n",
       "  '4  5  6'],\n",
       " ['IMD171', '', '1', '0', 'AT', 'A', 'P', 'A', 'A', '2  4  6'],\n",
       " ['IMD210', 'Dysplastic Nevus', '1', '2', 'AT', 'A', 'P', 'A', 'P', '4  5  6'],\n",
       " ['IMD347', 'Intradermal Nevus', '1', '0', 'AT', 'AT', 'A', 'A', 'P', '4  5'],\n",
       " ['IMD155', '', '1', '0', 'T', 'AT', 'A', 'A', 'A', '3  4'],\n",
       " ['IMD376', '', '1', '0', 'T', 'A', 'P', 'A', 'A', '4'],\n",
       " ['IMD006', '', '1', '2', 'AT', 'AT', 'A', 'A', 'A', '3  4'],\n",
       " ['IMD008', '', '1', '0', 'T', 'A', 'A', 'A', 'A', '3'],\n",
       " ['IMD014', '', '1', '1', 'AT', 'AT', 'A', 'P', 'A', '1  3  4'],\n",
       " ['IMD018', '', '1', '0', 'AT', 'AT', 'A', 'A', 'A', '4'],\n",
       " ['IMD023', '', '1', '0', 'AT', 'A', 'A', 'A', 'A', '3'],\n",
       " ['IMD031', '', '1', '0', 'AT', 'A', 'P', 'A', 'P', '4  5'],\n",
       " ['IMD036', '', '1', '0', 'AT', 'T', 'A', 'A', 'A', '3'],\n",
       " ['IMD154', '', '1', '0', 'AT', 'A', 'A', 'P', 'A', '1  3'],\n",
       " ['IMD170', '', '1', '1', 'AT', 'AT', 'A', 'A', 'A', '3  4'],\n",
       " ['IMD226', '', '1', '1', 'AT', 'AT', 'A', 'A', 'A', '3  4'],\n",
       " ['IMD243', '', '1', '0', 'AT', 'AT', 'P', 'A', 'A', '2  4'],\n",
       " ['IMD251', '', '1', '1', 'AT', 'A', 'A', 'A', 'A', '3  4'],\n",
       " ['IMD254', '', '1', '2', 'AT', 'A', 'A', 'A', 'A', '3'],\n",
       " ['IMD256', '', '1', '1', 'AT', 'A', 'P', 'A', 'A', '4'],\n",
       " ['IMD278', '', '1', '1', 'AT', 'A', 'A', 'A', 'A', '3  4'],\n",
       " ['IMD279', '', '1', '1', 'AT', 'A', 'A', 'A', 'A', '3  4'],\n",
       " ['IMD280', '', '1', '1', 'AT', 'A', 'A', 'A', 'A', '3  4'],\n",
       " ['IMD304', '', '1', '2', 'AT', 'AT', 'A', 'A', 'A', '3  4'],\n",
       " ['IMD305', '', '1', '2', 'AT', 'AT', 'A', 'A', 'A', '3  4'],\n",
       " ['IMD306', '', '1', '0', 'AT', 'A', 'P', 'A', 'A', '4'],\n",
       " ['IMD312', '', '1', '2', 'AT', 'A', 'A', 'A', 'A', '3  4'],\n",
       " ['IMD328', '', '1', '0', 'AT', 'AT', 'A', 'A', 'A', '4'],\n",
       " ['IMD331', '', '1', '0', 'AT', 'AT', 'A', 'A', 'A', '4'],\n",
       " ['IMD339', '', '1', '2', 'AT', 'AT', 'A', 'A', 'A', '3  4'],\n",
       " ['IMD356', '', '1', '0', 'AT', 'A', 'A', 'A', 'A', '3  4'],\n",
       " ['IMD360', '', '1', '0', 'AT', 'A', 'A', 'A', 'A', '4'],\n",
       " ['IMD368', '', '1', '2', 'AT', 'A', 'A', 'A', 'A', '3  4'],\n",
       " ['IMD369', '', '1', '0', 'AT', 'AT', 'A', 'A', 'A', '3  4  6'],\n",
       " ['IMD370', '', '1', '2', 'AT', 'AT', 'A', 'A', 'A', '3'],\n",
       " ['IMD382', '', '1', '1', 'AT', 'AT', 'A', 'A', 'A', '3  4'],\n",
       " ['IMD386', '', '1', '0', 'AT', 'A', 'P', 'A', 'A', '4'],\n",
       " ['IMD388', '', '1', '2', 'AT', 'AT', 'A', 'A', 'A', '3  4'],\n",
       " ['IMD393', '', '1', '0', 'AT', 'A', 'P', 'A', 'A', '2  3'],\n",
       " ['IMD396', '', '1', '1', 'AT', 'A', 'A', 'A', 'A', '4'],\n",
       " ['IMD398', '', '1', '1', 'AT', 'A', 'A', 'A', 'A', '4'],\n",
       " ['IMD427', '', '1', '0', 'AT', 'AT', 'A', 'A', 'A', '3  4  6'],\n",
       " ['IMD430', '', '1', '0', 'AT', 'A', 'P', 'P', 'A', '1  3  4'],\n",
       " ['IMD431', '', '1', '1', 'AT', 'AT', 'A', 'A', 'A', '3  4'],\n",
       " ['IMD432', '', '1', '2', 'AT', 'AT', 'P', 'A', 'A', '3  4'],\n",
       " ['IMD433', '', '1', '1', 'AT', 'A', 'P', 'A', 'A', '3  4'],\n",
       " ['IMD434', '', '1', '2', 'AT', 'AT', 'P', 'A', 'P', '3  4  5'],\n",
       " ['IMD436', 'Dysplastic Nevus', '1', '1', 'AT', 'A', 'A', 'A', 'A', '3  4'],\n",
       " ['IMD437', 'Dysplastic Nevus', '1', '2', 'AT', 'AT', 'A', 'P', 'A', '4  6'],\n",
       " ['IMD058', 'Melanoma', '2', '0', 'AT', 'A', 'A', 'P', 'P', '1  2  4  5'],\n",
       " ['IMD061', '', '2', '2', 'AT', 'A', 'A', 'P', 'P', '3  5'],\n",
       " ['IMD063', 'Melanoma', '2', '2', 'AT', 'AT', 'A', 'A', 'P', '3  4'],\n",
       " ['IMD064', 'Melanoma', '2', '2', 'AT', 'A', 'P', 'P', 'P', '1  3  5'],\n",
       " ['IMD065', '', '2', '2', 'AT', 'A', 'A', 'P', 'P', '4  6'],\n",
       " ['IMD080', 'Melanoma', '2', '2', 'AT', 'A', 'P', 'P', 'P', '2  4  6'],\n",
       " ['IMD085', '', '2', '2', 'AT', 'A', 'A', 'A', 'P', '5  6'],\n",
       " ['IMD088', 'Melanoma', '2', '2', 'AT', 'AT', 'P', 'P', 'P', '1  4  5  6'],\n",
       " ['IMD090', 'Melanoma', '2', '2', 'AT', 'AT', 'P', 'P', 'P', '4  5  6'],\n",
       " ['IMD091', '', '2', '0', 'T', 'AT', 'A', 'A', 'P', '5  6'],\n",
       " ['IMD168', '', '2', '2', 'AT', 'A', 'P', 'P', 'P', '1  4  5  6'],\n",
       " ['IMD211', 'Nodular Melanoma', '2', '1', 'AT', 'A', 'A', 'A', 'P', '5  6'],\n",
       " ['IMD219', 'Melanoma', '2', '2', 'AT', 'AT', 'A', 'P', 'P', '3  4  5  6'],\n",
       " ['IMD240', 'Melanoma', '2', '2', 'AT', 'A', 'P', 'P', 'P', '5  6'],\n",
       " ['IMD242', 'Lentigo Maligna', '2', '2', 'AT', 'A', 'A', 'A', 'A', '3  4  6'],\n",
       " ['IMD284', 'Melanoma', '2', '2', 'AT', 'AT', 'A', 'A', 'P', '4  5'],\n",
       " ['IMD285', 'Melanoma', '2', '0', 'AT', 'A', 'A', 'A', 'P', '3  4  5'],\n",
       " ['IMD348', 'Melanoma', '2', '2', 'AT', 'AT', 'P', 'P', 'P', '1  4  5  6'],\n",
       " ['IMD349', 'Melanoma', '2', '2', 'AT', 'AT', 'A', 'P', 'P', '3  4'],\n",
       " ['IMD403', 'Melanoma', '2', '2', 'AT', 'A', 'A', 'P', 'A', '1  3  4'],\n",
       " ['IMD404', 'Lentigo Maligna', '2', '2', 'AT', 'AT', 'A', 'A', 'A', '1  3  4'],\n",
       " ['IMD405',\n",
       "  'Nodular Melanoma',\n",
       "  '2',\n",
       "  '2',\n",
       "  'AT',\n",
       "  'AT',\n",
       "  'A',\n",
       "  'A',\n",
       "  'P',\n",
       "  '3  4  5  6'],\n",
       " ['IMD407', 'Melanoma', '2', '2', 'AT', 'AT', 'P', 'A', 'A', '3  4  6'],\n",
       " ['IMD408', 'Melanoma', '2', '2', 'AT', 'AT', 'P', 'P', 'P', '1  3  4  5  6'],\n",
       " ['IMD409', 'Melanoma', '2', '2', 'AT', 'A', 'P', 'P', 'P', '1  3  4  5  6'],\n",
       " ['IMD410', 'Melanoma', '2', '1', 'AT', 'AT', 'A', 'A', 'A', '3  4'],\n",
       " ['IMD413', 'Lentigo Maligna', '2', '2', 'AT', 'AT', 'A', 'A', 'A', '3  4'],\n",
       " ['IMD417', 'Melanoma', '2', '2', 'AT', 'AT', 'A', 'P', 'P', '1  3  4  5  6'],\n",
       " ['IMD418', 'Melanoma', '2', '2', 'AT', 'A', 'A', 'A', 'A', '3  4  6'],\n",
       " ['IMD419', 'Melanoma', '2', '2', 'AT', 'A', 'A', 'A', 'P', '3  4  5  6'],\n",
       " ['IMD406', '', '2', '2', 'AT', 'AT', 'A', 'P', 'A', '1  3  4'],\n",
       " ['IMD411', 'Lentigo Maligna', '2', '2', 'AT', 'AT', 'A', 'A', 'A', '3  4'],\n",
       " ['IMD420', 'Melanoma', '2', '2', 'AT', 'AT', 'P', 'P', 'P', '1  3  4  5'],\n",
       " ['IMD421', 'Melanoma', '2', '2', 'AT', 'AT', 'A', 'P', 'P', '1  3  4  5'],\n",
       " ['IMD423', 'Melanoma', '2', '0', 'AT', 'AT', 'A', 'A', 'P', '3  4  5'],\n",
       " ['IMD424', 'Melanoma', '2', '2', 'AT', 'AT', 'P', 'A', 'P', '3  4  5  6'],\n",
       " ['IMD425', 'Melanoma', '2', '2', 'AT', 'AT', 'A', 'P', 'P', '3  4  5  6'],\n",
       " ['IMD426', 'Melanoma', '2', '2', 'AT', 'A', 'A', 'P', 'A', '3  4'],\n",
       " ['IMD429', '', '2', '0', 'AT', 'A', 'P', 'A', 'P', '3  4  5  6'],\n",
       " ['IMD435',\n",
       "  'Lentigo Maligna',\n",
       "  '2',\n",
       "  '2',\n",
       "  'AT',\n",
       "  'A',\n",
       "  'A',\n",
       "  'A',\n",
       "  'P',\n",
       "  '3  4  5  6']]"
      ]
     },
     "execution_count": 5,
     "metadata": {},
     "output_type": "execute_result"
    }
   ],
   "source": [
    "txtFile"
   ]
  },
  {
   "cell_type": "code",
   "execution_count": 6,
   "metadata": {
    "execution": {
     "iopub.execute_input": "2021-10-07T17:10:47.772239Z",
     "iopub.status.busy": "2021-10-07T17:10:47.771752Z",
     "iopub.status.idle": "2021-10-07T17:10:47.796577Z",
     "shell.execute_reply": "2021-10-07T17:10:47.796010Z",
     "shell.execute_reply.started": "2021-10-07T17:10:47.772203Z"
    }
   },
   "outputs": [
    {
     "data": {
      "text/html": [
       "<div>\n",
       "<style scoped>\n",
       "    .dataframe tbody tr th:only-of-type {\n",
       "        vertical-align: middle;\n",
       "    }\n",
       "\n",
       "    .dataframe tbody tr th {\n",
       "        vertical-align: top;\n",
       "    }\n",
       "\n",
       "    .dataframe thead th {\n",
       "        text-align: right;\n",
       "    }\n",
       "</style>\n",
       "<table border=\"1\" class=\"dataframe\">\n",
       "  <thead>\n",
       "    <tr style=\"text-align: right;\">\n",
       "      <th></th>\n",
       "      <th>Name</th>\n",
       "      <th>Histological Diagnosis</th>\n",
       "      <th>Clinical Diagnosis</th>\n",
       "      <th>Asymmetry</th>\n",
       "      <th>Pigment Network</th>\n",
       "      <th>Dots/Globules</th>\n",
       "      <th>Streaks</th>\n",
       "      <th>Regression Areas</th>\n",
       "      <th>Blue-Whitish Veil</th>\n",
       "      <th>Colors</th>\n",
       "    </tr>\n",
       "  </thead>\n",
       "  <tbody>\n",
       "    <tr>\n",
       "      <th>0</th>\n",
       "      <td>IMD003</td>\n",
       "      <td></td>\n",
       "      <td>0</td>\n",
       "      <td>0</td>\n",
       "      <td>T</td>\n",
       "      <td>A</td>\n",
       "      <td>A</td>\n",
       "      <td>A</td>\n",
       "      <td>A</td>\n",
       "      <td>4</td>\n",
       "    </tr>\n",
       "    <tr>\n",
       "      <th>1</th>\n",
       "      <td>IMD009</td>\n",
       "      <td></td>\n",
       "      <td>0</td>\n",
       "      <td>0</td>\n",
       "      <td>T</td>\n",
       "      <td>A</td>\n",
       "      <td>A</td>\n",
       "      <td>A</td>\n",
       "      <td>A</td>\n",
       "      <td>3</td>\n",
       "    </tr>\n",
       "    <tr>\n",
       "      <th>2</th>\n",
       "      <td>IMD016</td>\n",
       "      <td></td>\n",
       "      <td>0</td>\n",
       "      <td>0</td>\n",
       "      <td>T</td>\n",
       "      <td>T</td>\n",
       "      <td>A</td>\n",
       "      <td>A</td>\n",
       "      <td>A</td>\n",
       "      <td>3  4</td>\n",
       "    </tr>\n",
       "    <tr>\n",
       "      <th>3</th>\n",
       "      <td>IMD022</td>\n",
       "      <td></td>\n",
       "      <td>0</td>\n",
       "      <td>0</td>\n",
       "      <td>T</td>\n",
       "      <td>A</td>\n",
       "      <td>A</td>\n",
       "      <td>A</td>\n",
       "      <td>A</td>\n",
       "      <td>3</td>\n",
       "    </tr>\n",
       "    <tr>\n",
       "      <th>4</th>\n",
       "      <td>IMD024</td>\n",
       "      <td></td>\n",
       "      <td>0</td>\n",
       "      <td>0</td>\n",
       "      <td>T</td>\n",
       "      <td>A</td>\n",
       "      <td>A</td>\n",
       "      <td>A</td>\n",
       "      <td>A</td>\n",
       "      <td>3  4</td>\n",
       "    </tr>\n",
       "  </tbody>\n",
       "</table>\n",
       "</div>"
      ],
      "text/plain": [
       "     Name Histological Diagnosis Clinical Diagnosis Asymmetry Pigment Network  \\\n",
       "0  IMD003                                         0         0               T   \n",
       "1  IMD009                                         0         0               T   \n",
       "2  IMD016                                         0         0               T   \n",
       "3  IMD022                                         0         0               T   \n",
       "4  IMD024                                         0         0               T   \n",
       "\n",
       "  Dots/Globules Streaks Regression Areas Blue-Whitish Veil Colors  \n",
       "0             A       A                A                 A      4  \n",
       "1             A       A                A                 A      3  \n",
       "2             T       A                A                 A   3  4  \n",
       "3             A       A                A                 A      3  \n",
       "4             A       A                A                 A   3  4  "
      ]
     },
     "execution_count": 6,
     "metadata": {},
     "output_type": "execute_result"
    }
   ],
   "source": [
    "#convert list to a dataframe\n",
    "df = pd.DataFrame(txtFile[1:], columns=txtFile[0])\n",
    "df.head(5)"
   ]
  },
  {
   "cell_type": "markdown",
   "metadata": {},
   "source": [
    "# Remove all rows that belongs to the (\"1\" Atypical Nevus)  \n",
    "# keep only 0 (common Nevus ) & 2 (Melanoma)"
   ]
  },
  {
   "cell_type": "code",
   "execution_count": 7,
   "metadata": {
    "execution": {
     "iopub.execute_input": "2021-10-07T17:10:49.333759Z",
     "iopub.status.busy": "2021-10-07T17:10:49.333305Z",
     "iopub.status.idle": "2021-10-07T17:10:49.344629Z",
     "shell.execute_reply": "2021-10-07T17:10:49.343639Z",
     "shell.execute_reply.started": "2021-10-07T17:10:49.333727Z"
    }
   },
   "outputs": [],
   "source": [
    "index = df[df['Clinical Diagnosis'] == '1' ].index\n",
    "# Delete these row indexes from dataFrame\n",
    "df.drop(index, inplace=True)"
   ]
  },
  {
   "cell_type": "code",
   "execution_count": 8,
   "metadata": {
    "execution": {
     "iopub.execute_input": "2021-10-07T17:10:50.576298Z",
     "iopub.status.busy": "2021-10-07T17:10:50.575500Z",
     "iopub.status.idle": "2021-10-07T17:10:50.582936Z",
     "shell.execute_reply": "2021-10-07T17:10:50.581919Z",
     "shell.execute_reply.started": "2021-10-07T17:10:50.576244Z"
    }
   },
   "outputs": [
    {
     "data": {
      "text/plain": [
       "(120, 10)"
      ]
     },
     "execution_count": 8,
     "metadata": {},
     "output_type": "execute_result"
    }
   ],
   "source": [
    "df.shape"
   ]
  },
  {
   "cell_type": "markdown",
   "metadata": {},
   "source": [
    "# The Number of Classes is 2"
   ]
  },
  {
   "cell_type": "code",
   "execution_count": 9,
   "metadata": {
    "execution": {
     "iopub.execute_input": "2021-10-07T17:10:52.081671Z",
     "iopub.status.busy": "2021-10-07T17:10:52.081035Z",
     "iopub.status.idle": "2021-10-07T17:10:52.092620Z",
     "shell.execute_reply": "2021-10-07T17:10:52.091244Z",
     "shell.execute_reply.started": "2021-10-07T17:10:52.081632Z"
    }
   },
   "outputs": [
    {
     "data": {
      "text/plain": [
       "array(['0', '2'], dtype=object)"
      ]
     },
     "execution_count": 9,
     "metadata": {},
     "output_type": "execute_result"
    }
   ],
   "source": [
    "df['Clinical Diagnosis'].unique()  #0 Common Nevus(Benign) , 2(Melanoma)"
   ]
  },
  {
   "cell_type": "code",
   "execution_count": 10,
   "metadata": {
    "execution": {
     "iopub.execute_input": "2021-10-07T17:10:52.849966Z",
     "iopub.status.busy": "2021-10-07T17:10:52.849019Z",
     "iopub.status.idle": "2021-10-07T17:10:52.853886Z",
     "shell.execute_reply": "2021-10-07T17:10:52.853026Z",
     "shell.execute_reply.started": "2021-10-07T17:10:52.849931Z"
    }
   },
   "outputs": [],
   "source": [
    "label = df['Clinical Diagnosis'].values.tolist()"
   ]
  },
  {
   "cell_type": "code",
   "execution_count": 11,
   "metadata": {
    "execution": {
     "iopub.execute_input": "2021-10-07T17:10:54.763847Z",
     "iopub.status.busy": "2021-10-07T17:10:54.763571Z",
     "iopub.status.idle": "2021-10-07T17:10:54.768129Z",
     "shell.execute_reply": "2021-10-07T17:10:54.767587Z",
     "shell.execute_reply.started": "2021-10-07T17:10:54.763805Z"
    }
   },
   "outputs": [],
   "source": [
    "imgs = df['Name'].values.tolist()"
   ]
  },
  {
   "cell_type": "code",
   "execution_count": 12,
   "metadata": {
    "execution": {
     "iopub.execute_input": "2021-10-07T17:10:55.644657Z",
     "iopub.status.busy": "2021-10-07T17:10:55.643545Z",
     "iopub.status.idle": "2021-10-07T17:10:55.649397Z",
     "shell.execute_reply": "2021-10-07T17:10:55.648839Z",
     "shell.execute_reply.started": "2021-10-07T17:10:55.644611Z"
    }
   },
   "outputs": [
    {
     "data": {
      "text/plain": [
       "120"
      ]
     },
     "execution_count": 12,
     "metadata": {},
     "output_type": "execute_result"
    }
   ],
   "source": [
    "len(imgs)"
   ]
  },
  {
   "cell_type": "code",
   "execution_count": 13,
   "metadata": {
    "execution": {
     "iopub.execute_input": "2021-10-07T17:10:56.554971Z",
     "iopub.status.busy": "2021-10-07T17:10:56.553638Z",
     "iopub.status.idle": "2021-10-07T17:10:57.115326Z",
     "shell.execute_reply": "2021-10-07T17:10:57.114391Z",
     "shell.execute_reply.started": "2021-10-07T17:10:56.554929Z"
    }
   },
   "outputs": [],
   "source": [
    "img_name = []\n",
    "path_img = []  \n",
    "\n",
    "for img in imgs :\n",
    "    for img_filename in os.listdir('PH2 Dataset images/'+ img +'/' + img+'_Dermoscopic_Image' ):\n",
    "        path_img.append('PH2 Dataset images/'+ img +'/' + img+'_Dermoscopic_Image'+ '/' +img_filename)\n",
    "        img_name.append(img_filename)"
   ]
  },
  {
   "cell_type": "code",
   "execution_count": 14,
   "metadata": {},
   "outputs": [
    {
     "name": "stdout",
     "output_type": "stream",
     "text": [
      "['PH2 Dataset images/IMD003/IMD003_Dermoscopic_Image/IMD003.bmp', 'PH2 Dataset images/IMD009/IMD009_Dermoscopic_Image/IMD009.bmp', 'PH2 Dataset images/IMD016/IMD016_Dermoscopic_Image/IMD016.bmp', 'PH2 Dataset images/IMD022/IMD022_Dermoscopic_Image/IMD022.bmp', 'PH2 Dataset images/IMD024/IMD024_Dermoscopic_Image/IMD024.bmp', 'PH2 Dataset images/IMD025/IMD025_Dermoscopic_Image/IMD025.bmp', 'PH2 Dataset images/IMD035/IMD035_Dermoscopic_Image/IMD035.bmp', 'PH2 Dataset images/IMD038/IMD038_Dermoscopic_Image/IMD038.bmp', 'PH2 Dataset images/IMD042/IMD042_Dermoscopic_Image/IMD042.bmp', 'PH2 Dataset images/IMD044/IMD044_Dermoscopic_Image/IMD044.bmp', 'PH2 Dataset images/IMD045/IMD045_Dermoscopic_Image/IMD045.bmp', 'PH2 Dataset images/IMD050/IMD050_Dermoscopic_Image/IMD050.bmp', 'PH2 Dataset images/IMD092/IMD092_Dermoscopic_Image/IMD092.bmp', 'PH2 Dataset images/IMD101/IMD101_Dermoscopic_Image/IMD101.bmp', 'PH2 Dataset images/IMD103/IMD103_Dermoscopic_Image/IMD103.bmp', 'PH2 Dataset images/IMD112/IMD112_Dermoscopic_Image/IMD112.bmp', 'PH2 Dataset images/IMD118/IMD118_Dermoscopic_Image/IMD118.bmp', 'PH2 Dataset images/IMD125/IMD125_Dermoscopic_Image/IMD125.bmp', 'PH2 Dataset images/IMD132/IMD132_Dermoscopic_Image/IMD132.bmp', 'PH2 Dataset images/IMD134/IMD134_Dermoscopic_Image/IMD134.bmp', 'PH2 Dataset images/IMD135/IMD135_Dermoscopic_Image/IMD135.bmp', 'PH2 Dataset images/IMD144/IMD144_Dermoscopic_Image/IMD144.bmp', 'PH2 Dataset images/IMD146/IMD146_Dermoscopic_Image/IMD146.bmp', 'PH2 Dataset images/IMD147/IMD147_Dermoscopic_Image/IMD147.bmp', 'PH2 Dataset images/IMD150/IMD150_Dermoscopic_Image/IMD150.bmp', 'PH2 Dataset images/IMD152/IMD152_Dermoscopic_Image/IMD152.bmp', 'PH2 Dataset images/IMD156/IMD156_Dermoscopic_Image/IMD156.bmp', 'PH2 Dataset images/IMD159/IMD159_Dermoscopic_Image/IMD159.bmp', 'PH2 Dataset images/IMD161/IMD161_Dermoscopic_Image/IMD161.bmp', 'PH2 Dataset images/IMD162/IMD162_Dermoscopic_Image/IMD162.bmp', 'PH2 Dataset images/IMD175/IMD175_Dermoscopic_Image/IMD175.bmp', 'PH2 Dataset images/IMD177/IMD177_Dermoscopic_Image/IMD177.bmp', 'PH2 Dataset images/IMD182/IMD182_Dermoscopic_Image/IMD182.bmp', 'PH2 Dataset images/IMD198/IMD198_Dermoscopic_Image/IMD198.bmp', 'PH2 Dataset images/IMD200/IMD200_Dermoscopic_Image/IMD200.bmp', 'PH2 Dataset images/IMD010/IMD010_Dermoscopic_Image/IMD010.bmp', 'PH2 Dataset images/IMD017/IMD017_Dermoscopic_Image/IMD017.bmp', 'PH2 Dataset images/IMD020/IMD020_Dermoscopic_Image/IMD020.bmp', 'PH2 Dataset images/IMD039/IMD039_Dermoscopic_Image/IMD039.bmp', 'PH2 Dataset images/IMD041/IMD041_Dermoscopic_Image/IMD041.bmp', 'PH2 Dataset images/IMD105/IMD105_Dermoscopic_Image/IMD105.bmp', 'PH2 Dataset images/IMD107/IMD107_Dermoscopic_Image/IMD107.bmp', 'PH2 Dataset images/IMD108/IMD108_Dermoscopic_Image/IMD108.bmp', 'PH2 Dataset images/IMD133/IMD133_Dermoscopic_Image/IMD133.bmp', 'PH2 Dataset images/IMD142/IMD142_Dermoscopic_Image/IMD142.bmp', 'PH2 Dataset images/IMD143/IMD143_Dermoscopic_Image/IMD143.bmp', 'PH2 Dataset images/IMD160/IMD160_Dermoscopic_Image/IMD160.bmp', 'PH2 Dataset images/IMD173/IMD173_Dermoscopic_Image/IMD173.bmp', 'PH2 Dataset images/IMD176/IMD176_Dermoscopic_Image/IMD176.bmp', 'PH2 Dataset images/IMD196/IMD196_Dermoscopic_Image/IMD196.bmp', 'PH2 Dataset images/IMD197/IMD197_Dermoscopic_Image/IMD197.bmp', 'PH2 Dataset images/IMD199/IMD199_Dermoscopic_Image/IMD199.bmp', 'PH2 Dataset images/IMD203/IMD203_Dermoscopic_Image/IMD203.bmp', 'PH2 Dataset images/IMD204/IMD204_Dermoscopic_Image/IMD204.bmp', 'PH2 Dataset images/IMD206/IMD206_Dermoscopic_Image/IMD206.bmp', 'PH2 Dataset images/IMD207/IMD207_Dermoscopic_Image/IMD207.bmp', 'PH2 Dataset images/IMD208/IMD208_Dermoscopic_Image/IMD208.bmp', 'PH2 Dataset images/IMD364/IMD364_Dermoscopic_Image/IMD364.bmp', 'PH2 Dataset images/IMD365/IMD365_Dermoscopic_Image/IMD365.bmp', 'PH2 Dataset images/IMD367/IMD367_Dermoscopic_Image/IMD367.bmp', 'PH2 Dataset images/IMD371/IMD371_Dermoscopic_Image/IMD371.bmp', 'PH2 Dataset images/IMD372/IMD372_Dermoscopic_Image/IMD372.bmp', 'PH2 Dataset images/IMD374/IMD374_Dermoscopic_Image/IMD374.bmp', 'PH2 Dataset images/IMD375/IMD375_Dermoscopic_Image/IMD375.bmp', 'PH2 Dataset images/IMD378/IMD378_Dermoscopic_Image/IMD378.bmp', 'PH2 Dataset images/IMD379/IMD379_Dermoscopic_Image/IMD379.bmp', 'PH2 Dataset images/IMD380/IMD380_Dermoscopic_Image/IMD380.bmp', 'PH2 Dataset images/IMD381/IMD381_Dermoscopic_Image/IMD381.bmp', 'PH2 Dataset images/IMD383/IMD383_Dermoscopic_Image/IMD383.bmp', 'PH2 Dataset images/IMD384/IMD384_Dermoscopic_Image/IMD384.bmp', 'PH2 Dataset images/IMD385/IMD385_Dermoscopic_Image/IMD385.bmp', 'PH2 Dataset images/IMD389/IMD389_Dermoscopic_Image/IMD389.bmp', 'PH2 Dataset images/IMD390/IMD390_Dermoscopic_Image/IMD390.bmp', 'PH2 Dataset images/IMD392/IMD392_Dermoscopic_Image/IMD392.bmp', 'PH2 Dataset images/IMD394/IMD394_Dermoscopic_Image/IMD394.bmp', 'PH2 Dataset images/IMD395/IMD395_Dermoscopic_Image/IMD395.bmp', 'PH2 Dataset images/IMD397/IMD397_Dermoscopic_Image/IMD397.bmp', 'PH2 Dataset images/IMD399/IMD399_Dermoscopic_Image/IMD399.bmp', 'PH2 Dataset images/IMD400/IMD400_Dermoscopic_Image/IMD400.bmp', 'PH2 Dataset images/IMD402/IMD402_Dermoscopic_Image/IMD402.bmp', 'PH2 Dataset images/IMD058/IMD058_Dermoscopic_Image/IMD058.bmp', 'PH2 Dataset images/IMD061/IMD061_Dermoscopic_Image/IMD061.bmp', 'PH2 Dataset images/IMD063/IMD063_Dermoscopic_Image/IMD063.bmp', 'PH2 Dataset images/IMD064/IMD064_Dermoscopic_Image/IMD064.bmp', 'PH2 Dataset images/IMD065/IMD065_Dermoscopic_Image/IMD065.bmp', 'PH2 Dataset images/IMD080/IMD080_Dermoscopic_Image/IMD080.bmp', 'PH2 Dataset images/IMD085/IMD085_Dermoscopic_Image/IMD085.bmp', 'PH2 Dataset images/IMD088/IMD088_Dermoscopic_Image/IMD088.bmp', 'PH2 Dataset images/IMD090/IMD090_Dermoscopic_Image/IMD090.bmp', 'PH2 Dataset images/IMD091/IMD091_Dermoscopic_Image/IMD091.bmp', 'PH2 Dataset images/IMD168/IMD168_Dermoscopic_Image/IMD168.bmp', 'PH2 Dataset images/IMD211/IMD211_Dermoscopic_Image/IMD211.bmp', 'PH2 Dataset images/IMD219/IMD219_Dermoscopic_Image/IMD219.bmp', 'PH2 Dataset images/IMD240/IMD240_Dermoscopic_Image/IMD240.bmp', 'PH2 Dataset images/IMD242/IMD242_Dermoscopic_Image/IMD242.bmp', 'PH2 Dataset images/IMD284/IMD284_Dermoscopic_Image/IMD284.bmp', 'PH2 Dataset images/IMD285/IMD285_Dermoscopic_Image/IMD285.bmp', 'PH2 Dataset images/IMD348/IMD348_Dermoscopic_Image/IMD348.bmp', 'PH2 Dataset images/IMD349/IMD349_Dermoscopic_Image/IMD349.bmp', 'PH2 Dataset images/IMD403/IMD403_Dermoscopic_Image/IMD403.bmp', 'PH2 Dataset images/IMD404/IMD404_Dermoscopic_Image/IMD404.bmp', 'PH2 Dataset images/IMD405/IMD405_Dermoscopic_Image/IMD405.bmp', 'PH2 Dataset images/IMD407/IMD407_Dermoscopic_Image/IMD407.bmp', 'PH2 Dataset images/IMD408/IMD408_Dermoscopic_Image/IMD408.bmp', 'PH2 Dataset images/IMD409/IMD409_Dermoscopic_Image/IMD409.bmp', 'PH2 Dataset images/IMD410/IMD410_Dermoscopic_Image/IMD410.bmp', 'PH2 Dataset images/IMD413/IMD413_Dermoscopic_Image/IMD413.bmp', 'PH2 Dataset images/IMD417/IMD417_Dermoscopic_Image/IMD417.bmp', 'PH2 Dataset images/IMD418/IMD418_Dermoscopic_Image/IMD418.bmp', 'PH2 Dataset images/IMD419/IMD419_Dermoscopic_Image/IMD419.bmp', 'PH2 Dataset images/IMD406/IMD406_Dermoscopic_Image/IMD406.bmp', 'PH2 Dataset images/IMD411/IMD411_Dermoscopic_Image/IMD411.bmp', 'PH2 Dataset images/IMD420/IMD420_Dermoscopic_Image/IMD420.bmp', 'PH2 Dataset images/IMD421/IMD421_Dermoscopic_Image/IMD421.bmp', 'PH2 Dataset images/IMD423/IMD423_Dermoscopic_Image/IMD423.bmp', 'PH2 Dataset images/IMD424/IMD424_Dermoscopic_Image/IMD424.bmp', 'PH2 Dataset images/IMD425/IMD425_Dermoscopic_Image/IMD425.bmp', 'PH2 Dataset images/IMD426/IMD426_Dermoscopic_Image/IMD426.bmp', 'PH2 Dataset images/IMD429/IMD429_Dermoscopic_Image/IMD429.bmp', 'PH2 Dataset images/IMD435/IMD435_Dermoscopic_Image/IMD435.bmp']\n",
      "['IMD003.bmp', 'IMD009.bmp', 'IMD016.bmp', 'IMD022.bmp', 'IMD024.bmp', 'IMD025.bmp', 'IMD035.bmp', 'IMD038.bmp', 'IMD042.bmp', 'IMD044.bmp', 'IMD045.bmp', 'IMD050.bmp', 'IMD092.bmp', 'IMD101.bmp', 'IMD103.bmp', 'IMD112.bmp', 'IMD118.bmp', 'IMD125.bmp', 'IMD132.bmp', 'IMD134.bmp', 'IMD135.bmp', 'IMD144.bmp', 'IMD146.bmp', 'IMD147.bmp', 'IMD150.bmp', 'IMD152.bmp', 'IMD156.bmp', 'IMD159.bmp', 'IMD161.bmp', 'IMD162.bmp', 'IMD175.bmp', 'IMD177.bmp', 'IMD182.bmp', 'IMD198.bmp', 'IMD200.bmp', 'IMD010.bmp', 'IMD017.bmp', 'IMD020.bmp', 'IMD039.bmp', 'IMD041.bmp', 'IMD105.bmp', 'IMD107.bmp', 'IMD108.bmp', 'IMD133.bmp', 'IMD142.bmp', 'IMD143.bmp', 'IMD160.bmp', 'IMD173.bmp', 'IMD176.bmp', 'IMD196.bmp', 'IMD197.bmp', 'IMD199.bmp', 'IMD203.bmp', 'IMD204.bmp', 'IMD206.bmp', 'IMD207.bmp', 'IMD208.bmp', 'IMD364.bmp', 'IMD365.bmp', 'IMD367.bmp', 'IMD371.bmp', 'IMD372.bmp', 'IMD374.bmp', 'IMD375.bmp', 'IMD378.bmp', 'IMD379.bmp', 'IMD380.bmp', 'IMD381.bmp', 'IMD383.bmp', 'IMD384.bmp', 'IMD385.bmp', 'IMD389.bmp', 'IMD390.bmp', 'IMD392.bmp', 'IMD394.bmp', 'IMD395.bmp', 'IMD397.bmp', 'IMD399.bmp', 'IMD400.bmp', 'IMD402.bmp', 'IMD058.bmp', 'IMD061.bmp', 'IMD063.bmp', 'IMD064.bmp', 'IMD065.bmp', 'IMD080.bmp', 'IMD085.bmp', 'IMD088.bmp', 'IMD090.bmp', 'IMD091.bmp', 'IMD168.bmp', 'IMD211.bmp', 'IMD219.bmp', 'IMD240.bmp', 'IMD242.bmp', 'IMD284.bmp', 'IMD285.bmp', 'IMD348.bmp', 'IMD349.bmp', 'IMD403.bmp', 'IMD404.bmp', 'IMD405.bmp', 'IMD407.bmp', 'IMD408.bmp', 'IMD409.bmp', 'IMD410.bmp', 'IMD413.bmp', 'IMD417.bmp', 'IMD418.bmp', 'IMD419.bmp', 'IMD406.bmp', 'IMD411.bmp', 'IMD420.bmp', 'IMD421.bmp', 'IMD423.bmp', 'IMD424.bmp', 'IMD425.bmp', 'IMD426.bmp', 'IMD429.bmp', 'IMD435.bmp']\n"
     ]
    }
   ],
   "source": [
    "print(path_img)\n",
    "print(img_name)"
   ]
  },
  {
   "cell_type": "code",
   "execution_count": 15,
   "metadata": {
    "execution": {
     "iopub.execute_input": "2021-10-07T17:10:58.712222Z",
     "iopub.status.busy": "2021-10-07T17:10:58.711908Z",
     "iopub.status.idle": "2021-10-07T17:10:58.719931Z",
     "shell.execute_reply": "2021-10-07T17:10:58.718871Z",
     "shell.execute_reply.started": "2021-10-07T17:10:58.712191Z"
    }
   },
   "outputs": [
    {
     "data": {
      "text/plain": [
       "120"
      ]
     },
     "execution_count": 15,
     "metadata": {},
     "output_type": "execute_result"
    }
   ],
   "source": [
    "len(img_name)"
   ]
  },
  {
   "cell_type": "markdown",
   "metadata": {},
   "source": [
    "# Replace Column (image) with the total name of dataset images (append .bmp to each image)"
   ]
  },
  {
   "cell_type": "code",
   "execution_count": 16,
   "metadata": {
    "execution": {
     "iopub.execute_input": "2021-10-07T17:11:01.808466Z",
     "iopub.status.busy": "2021-10-07T17:11:01.807800Z",
     "iopub.status.idle": "2021-10-07T17:11:01.813458Z",
     "shell.execute_reply": "2021-10-07T17:11:01.812888Z",
     "shell.execute_reply.started": "2021-10-07T17:11:01.808413Z"
    }
   },
   "outputs": [],
   "source": [
    "#convert list of images to dataframe \n",
    "df_img = pd.DataFrame(img_name ,columns=['Name'])"
   ]
  },
  {
   "cell_type": "code",
   "execution_count": 17,
   "metadata": {
    "execution": {
     "iopub.execute_input": "2021-10-07T17:11:02.948077Z",
     "iopub.status.busy": "2021-10-07T17:11:02.947537Z",
     "iopub.status.idle": "2021-10-07T17:11:02.964742Z",
     "shell.execute_reply": "2021-10-07T17:11:02.963929Z",
     "shell.execute_reply.started": "2021-10-07T17:11:02.948026Z"
    }
   },
   "outputs": [
    {
     "data": {
      "text/html": [
       "<div>\n",
       "<style scoped>\n",
       "    .dataframe tbody tr th:only-of-type {\n",
       "        vertical-align: middle;\n",
       "    }\n",
       "\n",
       "    .dataframe tbody tr th {\n",
       "        vertical-align: top;\n",
       "    }\n",
       "\n",
       "    .dataframe thead th {\n",
       "        text-align: right;\n",
       "    }\n",
       "</style>\n",
       "<table border=\"1\" class=\"dataframe\">\n",
       "  <thead>\n",
       "    <tr style=\"text-align: right;\">\n",
       "      <th></th>\n",
       "      <th>Name</th>\n",
       "    </tr>\n",
       "  </thead>\n",
       "  <tbody>\n",
       "    <tr>\n",
       "      <th>0</th>\n",
       "      <td>IMD003.bmp</td>\n",
       "    </tr>\n",
       "    <tr>\n",
       "      <th>1</th>\n",
       "      <td>IMD009.bmp</td>\n",
       "    </tr>\n",
       "    <tr>\n",
       "      <th>2</th>\n",
       "      <td>IMD016.bmp</td>\n",
       "    </tr>\n",
       "    <tr>\n",
       "      <th>3</th>\n",
       "      <td>IMD022.bmp</td>\n",
       "    </tr>\n",
       "    <tr>\n",
       "      <th>4</th>\n",
       "      <td>IMD024.bmp</td>\n",
       "    </tr>\n",
       "    <tr>\n",
       "      <th>...</th>\n",
       "      <td>...</td>\n",
       "    </tr>\n",
       "    <tr>\n",
       "      <th>115</th>\n",
       "      <td>IMD424.bmp</td>\n",
       "    </tr>\n",
       "    <tr>\n",
       "      <th>116</th>\n",
       "      <td>IMD425.bmp</td>\n",
       "    </tr>\n",
       "    <tr>\n",
       "      <th>117</th>\n",
       "      <td>IMD426.bmp</td>\n",
       "    </tr>\n",
       "    <tr>\n",
       "      <th>118</th>\n",
       "      <td>IMD429.bmp</td>\n",
       "    </tr>\n",
       "    <tr>\n",
       "      <th>119</th>\n",
       "      <td>IMD435.bmp</td>\n",
       "    </tr>\n",
       "  </tbody>\n",
       "</table>\n",
       "<p>120 rows × 1 columns</p>\n",
       "</div>"
      ],
      "text/plain": [
       "           Name\n",
       "0    IMD003.bmp\n",
       "1    IMD009.bmp\n",
       "2    IMD016.bmp\n",
       "3    IMD022.bmp\n",
       "4    IMD024.bmp\n",
       "..          ...\n",
       "115  IMD424.bmp\n",
       "116  IMD425.bmp\n",
       "117  IMD426.bmp\n",
       "118  IMD429.bmp\n",
       "119  IMD435.bmp\n",
       "\n",
       "[120 rows x 1 columns]"
      ]
     },
     "execution_count": 17,
     "metadata": {},
     "output_type": "execute_result"
    }
   ],
   "source": [
    "df_img"
   ]
  },
  {
   "cell_type": "code",
   "execution_count": 18,
   "metadata": {
    "execution": {
     "iopub.execute_input": "2021-10-07T17:11:03.777865Z",
     "iopub.status.busy": "2021-10-07T17:11:03.777328Z",
     "iopub.status.idle": "2021-10-07T17:11:03.788647Z",
     "shell.execute_reply": "2021-10-07T17:11:03.787888Z",
     "shell.execute_reply.started": "2021-10-07T17:11:03.777831Z"
    }
   },
   "outputs": [
    {
     "data": {
      "text/html": [
       "<div>\n",
       "<style scoped>\n",
       "    .dataframe tbody tr th:only-of-type {\n",
       "        vertical-align: middle;\n",
       "    }\n",
       "\n",
       "    .dataframe tbody tr th {\n",
       "        vertical-align: top;\n",
       "    }\n",
       "\n",
       "    .dataframe thead th {\n",
       "        text-align: right;\n",
       "    }\n",
       "</style>\n",
       "<table border=\"1\" class=\"dataframe\">\n",
       "  <thead>\n",
       "    <tr style=\"text-align: right;\">\n",
       "      <th></th>\n",
       "      <th>Clinical Diagnosis</th>\n",
       "    </tr>\n",
       "  </thead>\n",
       "  <tbody>\n",
       "    <tr>\n",
       "      <th>0</th>\n",
       "      <td>0</td>\n",
       "    </tr>\n",
       "    <tr>\n",
       "      <th>1</th>\n",
       "      <td>0</td>\n",
       "    </tr>\n",
       "    <tr>\n",
       "      <th>2</th>\n",
       "      <td>0</td>\n",
       "    </tr>\n",
       "    <tr>\n",
       "      <th>3</th>\n",
       "      <td>0</td>\n",
       "    </tr>\n",
       "    <tr>\n",
       "      <th>4</th>\n",
       "      <td>0</td>\n",
       "    </tr>\n",
       "    <tr>\n",
       "      <th>...</th>\n",
       "      <td>...</td>\n",
       "    </tr>\n",
       "    <tr>\n",
       "      <th>115</th>\n",
       "      <td>2</td>\n",
       "    </tr>\n",
       "    <tr>\n",
       "      <th>116</th>\n",
       "      <td>2</td>\n",
       "    </tr>\n",
       "    <tr>\n",
       "      <th>117</th>\n",
       "      <td>2</td>\n",
       "    </tr>\n",
       "    <tr>\n",
       "      <th>118</th>\n",
       "      <td>2</td>\n",
       "    </tr>\n",
       "    <tr>\n",
       "      <th>119</th>\n",
       "      <td>2</td>\n",
       "    </tr>\n",
       "  </tbody>\n",
       "</table>\n",
       "<p>120 rows × 1 columns</p>\n",
       "</div>"
      ],
      "text/plain": [
       "    Clinical Diagnosis\n",
       "0                    0\n",
       "1                    0\n",
       "2                    0\n",
       "3                    0\n",
       "4                    0\n",
       "..                 ...\n",
       "115                  2\n",
       "116                  2\n",
       "117                  2\n",
       "118                  2\n",
       "119                  2\n",
       "\n",
       "[120 rows x 1 columns]"
      ]
     },
     "execution_count": 18,
     "metadata": {},
     "output_type": "execute_result"
    }
   ],
   "source": [
    "df_label = pd.DataFrame(label ,columns=['Clinical Diagnosis'])\n",
    "df_label"
   ]
  },
  {
   "cell_type": "code",
   "execution_count": 19,
   "metadata": {
    "execution": {
     "iopub.execute_input": "2021-10-07T17:59:23.841854Z",
     "iopub.status.busy": "2021-10-07T17:59:23.841482Z",
     "iopub.status.idle": "2021-10-07T17:59:23.856569Z",
     "shell.execute_reply": "2021-10-07T17:59:23.855521Z",
     "shell.execute_reply.started": "2021-10-07T17:59:23.841820Z"
    }
   },
   "outputs": [
    {
     "data": {
      "text/html": [
       "<div>\n",
       "<style scoped>\n",
       "    .dataframe tbody tr th:only-of-type {\n",
       "        vertical-align: middle;\n",
       "    }\n",
       "\n",
       "    .dataframe tbody tr th {\n",
       "        vertical-align: top;\n",
       "    }\n",
       "\n",
       "    .dataframe thead th {\n",
       "        text-align: right;\n",
       "    }\n",
       "</style>\n",
       "<table border=\"1\" class=\"dataframe\">\n",
       "  <thead>\n",
       "    <tr style=\"text-align: right;\">\n",
       "      <th></th>\n",
       "      <th>Clinical Diagnosis</th>\n",
       "    </tr>\n",
       "  </thead>\n",
       "  <tbody>\n",
       "    <tr>\n",
       "      <th>0</th>\n",
       "      <td>0</td>\n",
       "    </tr>\n",
       "    <tr>\n",
       "      <th>1</th>\n",
       "      <td>0</td>\n",
       "    </tr>\n",
       "    <tr>\n",
       "      <th>2</th>\n",
       "      <td>0</td>\n",
       "    </tr>\n",
       "    <tr>\n",
       "      <th>3</th>\n",
       "      <td>0</td>\n",
       "    </tr>\n",
       "    <tr>\n",
       "      <th>4</th>\n",
       "      <td>0</td>\n",
       "    </tr>\n",
       "    <tr>\n",
       "      <th>...</th>\n",
       "      <td>...</td>\n",
       "    </tr>\n",
       "    <tr>\n",
       "      <th>115</th>\n",
       "      <td>1</td>\n",
       "    </tr>\n",
       "    <tr>\n",
       "      <th>116</th>\n",
       "      <td>1</td>\n",
       "    </tr>\n",
       "    <tr>\n",
       "      <th>117</th>\n",
       "      <td>1</td>\n",
       "    </tr>\n",
       "    <tr>\n",
       "      <th>118</th>\n",
       "      <td>1</td>\n",
       "    </tr>\n",
       "    <tr>\n",
       "      <th>119</th>\n",
       "      <td>1</td>\n",
       "    </tr>\n",
       "  </tbody>\n",
       "</table>\n",
       "<p>120 rows × 1 columns</p>\n",
       "</div>"
      ],
      "text/plain": [
       "    Clinical Diagnosis\n",
       "0                    0\n",
       "1                    0\n",
       "2                    0\n",
       "3                    0\n",
       "4                    0\n",
       "..                 ...\n",
       "115                  1\n",
       "116                  1\n",
       "117                  1\n",
       "118                  1\n",
       "119                  1\n",
       "\n",
       "[120 rows x 1 columns]"
      ]
     },
     "execution_count": 19,
     "metadata": {},
     "output_type": "execute_result"
    }
   ],
   "source": [
    "df_label[\"Clinical Diagnosis\"].replace({\"2\": \"1\"}, inplace=True)\n",
    "df_label"
   ]
  },
  {
   "cell_type": "code",
   "execution_count": 20,
   "metadata": {
    "execution": {
     "iopub.execute_input": "2021-10-07T17:59:30.296912Z",
     "iopub.status.busy": "2021-10-07T17:59:30.295687Z",
     "iopub.status.idle": "2021-10-07T17:59:30.308220Z",
     "shell.execute_reply": "2021-10-07T17:59:30.307213Z",
     "shell.execute_reply.started": "2021-10-07T17:59:30.296868Z"
    }
   },
   "outputs": [
    {
     "data": {
      "text/html": [
       "<div>\n",
       "<style scoped>\n",
       "    .dataframe tbody tr th:only-of-type {\n",
       "        vertical-align: middle;\n",
       "    }\n",
       "\n",
       "    .dataframe tbody tr th {\n",
       "        vertical-align: top;\n",
       "    }\n",
       "\n",
       "    .dataframe thead th {\n",
       "        text-align: right;\n",
       "    }\n",
       "</style>\n",
       "<table border=\"1\" class=\"dataframe\">\n",
       "  <thead>\n",
       "    <tr style=\"text-align: right;\">\n",
       "      <th></th>\n",
       "      <th>Name</th>\n",
       "      <th>Clinical Diagnosis</th>\n",
       "    </tr>\n",
       "  </thead>\n",
       "  <tbody>\n",
       "    <tr>\n",
       "      <th>0</th>\n",
       "      <td>IMD003.bmp</td>\n",
       "      <td>0</td>\n",
       "    </tr>\n",
       "    <tr>\n",
       "      <th>1</th>\n",
       "      <td>IMD009.bmp</td>\n",
       "      <td>0</td>\n",
       "    </tr>\n",
       "    <tr>\n",
       "      <th>2</th>\n",
       "      <td>IMD016.bmp</td>\n",
       "      <td>0</td>\n",
       "    </tr>\n",
       "    <tr>\n",
       "      <th>3</th>\n",
       "      <td>IMD022.bmp</td>\n",
       "      <td>0</td>\n",
       "    </tr>\n",
       "    <tr>\n",
       "      <th>4</th>\n",
       "      <td>IMD024.bmp</td>\n",
       "      <td>0</td>\n",
       "    </tr>\n",
       "  </tbody>\n",
       "</table>\n",
       "</div>"
      ],
      "text/plain": [
       "         Name Clinical Diagnosis\n",
       "0  IMD003.bmp                  0\n",
       "1  IMD009.bmp                  0\n",
       "2  IMD016.bmp                  0\n",
       "3  IMD022.bmp                  0\n",
       "4  IMD024.bmp                  0"
      ]
     },
     "execution_count": 20,
     "metadata": {},
     "output_type": "execute_result"
    }
   ],
   "source": [
    "dataset = pd.concat([df_img, df_label], axis=1)\n",
    "dataset.head()"
   ]
  },
  {
   "cell_type": "markdown",
   "metadata": {},
   "source": [
    "# Divide the Dataset into train and test"
   ]
  },
  {
   "cell_type": "code",
   "execution_count": 21,
   "metadata": {
    "execution": {
     "iopub.execute_input": "2021-10-07T17:59:44.442651Z",
     "iopub.status.busy": "2021-10-07T17:59:44.441555Z",
     "iopub.status.idle": "2021-10-07T17:59:44.448262Z",
     "shell.execute_reply": "2021-10-07T17:59:44.447304Z",
     "shell.execute_reply.started": "2021-10-07T17:59:44.442609Z"
    }
   },
   "outputs": [],
   "source": [
    "X = dataset[:]\n",
    "y = dataset.iloc[:,1]"
   ]
  },
  {
   "cell_type": "code",
   "execution_count": 22,
   "metadata": {
    "execution": {
     "iopub.execute_input": "2021-10-07T17:59:44.791298Z",
     "iopub.status.busy": "2021-10-07T17:59:44.791018Z",
     "iopub.status.idle": "2021-10-07T17:59:44.799068Z",
     "shell.execute_reply": "2021-10-07T17:59:44.798174Z",
     "shell.execute_reply.started": "2021-10-07T17:59:44.791270Z"
    }
   },
   "outputs": [
    {
     "data": {
      "text/plain": [
       "0      0\n",
       "1      0\n",
       "2      0\n",
       "3      0\n",
       "4      0\n",
       "      ..\n",
       "115    1\n",
       "116    1\n",
       "117    1\n",
       "118    1\n",
       "119    1\n",
       "Name: Clinical Diagnosis, Length: 120, dtype: object"
      ]
     },
     "execution_count": 22,
     "metadata": {},
     "output_type": "execute_result"
    }
   ],
   "source": [
    "y"
   ]
  },
  {
   "cell_type": "code",
   "execution_count": 23,
   "metadata": {
    "execution": {
     "iopub.execute_input": "2021-10-07T17:59:51.342374Z",
     "iopub.status.busy": "2021-10-07T17:59:51.342054Z",
     "iopub.status.idle": "2021-10-07T17:59:51.349568Z",
     "shell.execute_reply": "2021-10-07T17:59:51.348630Z",
     "shell.execute_reply.started": "2021-10-07T17:59:51.342341Z"
    }
   },
   "outputs": [],
   "source": [
    "X_train, X_test, y_train, y_test = train_test_split(X, y, test_size=0.20, random_state=42)"
   ]
  },
  {
   "cell_type": "code",
   "execution_count": 24,
   "metadata": {
    "execution": {
     "iopub.execute_input": "2021-10-07T17:59:51.677581Z",
     "iopub.status.busy": "2021-10-07T17:59:51.677287Z",
     "iopub.status.idle": "2021-10-07T17:59:51.682055Z",
     "shell.execute_reply": "2021-10-07T17:59:51.681365Z",
     "shell.execute_reply.started": "2021-10-07T17:59:51.677546Z"
    }
   },
   "outputs": [
    {
     "name": "stdout",
     "output_type": "stream",
     "text": [
      "XTrain shape =  (96, 2)\n",
      "yTrain shape =  (96,)\n",
      "XTest sets shape =  (24, 2)\n",
      "yTest sets shape =  (24,)\n"
     ]
    }
   ],
   "source": [
    "print('XTrain shape = ',X_train.shape)\n",
    "print('yTrain shape = ',y_train.shape)\n",
    "print('XTest sets shape = ', X_test.shape)\n",
    "print('yTest sets shape = ', y_test.shape)"
   ]
  },
  {
   "cell_type": "code",
   "execution_count": 25,
   "metadata": {
    "execution": {
     "iopub.execute_input": "2021-10-07T17:59:52.187617Z",
     "iopub.status.busy": "2021-10-07T17:59:52.186863Z",
     "iopub.status.idle": "2021-10-07T17:59:52.191871Z",
     "shell.execute_reply": "2021-10-07T17:59:52.191288Z",
     "shell.execute_reply.started": "2021-10-07T17:59:52.187576Z"
    }
   },
   "outputs": [
    {
     "data": {
      "text/html": [
       "<div>\n",
       "<style scoped>\n",
       "    .dataframe tbody tr th:only-of-type {\n",
       "        vertical-align: middle;\n",
       "    }\n",
       "\n",
       "    .dataframe tbody tr th {\n",
       "        vertical-align: top;\n",
       "    }\n",
       "\n",
       "    .dataframe thead th {\n",
       "        text-align: right;\n",
       "    }\n",
       "</style>\n",
       "<table border=\"1\" class=\"dataframe\">\n",
       "  <thead>\n",
       "    <tr style=\"text-align: right;\">\n",
       "      <th></th>\n",
       "      <th>Name</th>\n",
       "      <th>Clinical Diagnosis</th>\n",
       "    </tr>\n",
       "  </thead>\n",
       "  <tbody>\n",
       "    <tr>\n",
       "      <th>42</th>\n",
       "      <td>IMD108.bmp</td>\n",
       "      <td>0</td>\n",
       "    </tr>\n",
       "    <tr>\n",
       "      <th>12</th>\n",
       "      <td>IMD092.bmp</td>\n",
       "      <td>0</td>\n",
       "    </tr>\n",
       "    <tr>\n",
       "      <th>15</th>\n",
       "      <td>IMD112.bmp</td>\n",
       "      <td>0</td>\n",
       "    </tr>\n",
       "    <tr>\n",
       "      <th>114</th>\n",
       "      <td>IMD423.bmp</td>\n",
       "      <td>1</td>\n",
       "    </tr>\n",
       "    <tr>\n",
       "      <th>76</th>\n",
       "      <td>IMD397.bmp</td>\n",
       "      <td>0</td>\n",
       "    </tr>\n",
       "    <tr>\n",
       "      <th>...</th>\n",
       "      <td>...</td>\n",
       "      <td>...</td>\n",
       "    </tr>\n",
       "    <tr>\n",
       "      <th>106</th>\n",
       "      <td>IMD413.bmp</td>\n",
       "      <td>1</td>\n",
       "    </tr>\n",
       "    <tr>\n",
       "      <th>14</th>\n",
       "      <td>IMD103.bmp</td>\n",
       "      <td>0</td>\n",
       "    </tr>\n",
       "    <tr>\n",
       "      <th>92</th>\n",
       "      <td>IMD219.bmp</td>\n",
       "      <td>1</td>\n",
       "    </tr>\n",
       "    <tr>\n",
       "      <th>51</th>\n",
       "      <td>IMD199.bmp</td>\n",
       "      <td>0</td>\n",
       "    </tr>\n",
       "    <tr>\n",
       "      <th>102</th>\n",
       "      <td>IMD407.bmp</td>\n",
       "      <td>1</td>\n",
       "    </tr>\n",
       "  </tbody>\n",
       "</table>\n",
       "<p>96 rows × 2 columns</p>\n",
       "</div>"
      ],
      "text/plain": [
       "           Name Clinical Diagnosis\n",
       "42   IMD108.bmp                  0\n",
       "12   IMD092.bmp                  0\n",
       "15   IMD112.bmp                  0\n",
       "114  IMD423.bmp                  1\n",
       "76   IMD397.bmp                  0\n",
       "..          ...                ...\n",
       "106  IMD413.bmp                  1\n",
       "14   IMD103.bmp                  0\n",
       "92   IMD219.bmp                  1\n",
       "51   IMD199.bmp                  0\n",
       "102  IMD407.bmp                  1\n",
       "\n",
       "[96 rows x 2 columns]"
      ]
     },
     "execution_count": 25,
     "metadata": {},
     "output_type": "execute_result"
    }
   ],
   "source": [
    "X_train"
   ]
  },
  {
   "cell_type": "code",
   "execution_count": 26,
   "metadata": {
    "execution": {
     "iopub.execute_input": "2021-10-07T17:59:52.889823Z",
     "iopub.status.busy": "2021-10-07T17:59:52.889488Z",
     "iopub.status.idle": "2021-10-07T17:59:52.894604Z",
     "shell.execute_reply": "2021-10-07T17:59:52.894017Z",
     "shell.execute_reply.started": "2021-10-07T17:59:52.889775Z"
    }
   },
   "outputs": [
    {
     "data": {
      "text/plain": [
       "42     0\n",
       "12     0\n",
       "15     0\n",
       "114    1\n",
       "76     0\n",
       "      ..\n",
       "106    1\n",
       "14     0\n",
       "92     1\n",
       "51     0\n",
       "102    1\n",
       "Name: Clinical Diagnosis, Length: 96, dtype: object"
      ]
     },
     "execution_count": 26,
     "metadata": {},
     "output_type": "execute_result"
    }
   ],
   "source": [
    "y_train"
   ]
  },
  {
   "cell_type": "code",
   "execution_count": null,
   "metadata": {
    "execution": {
     "iopub.execute_input": "2021-10-07T17:59:54.030719Z",
     "iopub.status.busy": "2021-10-07T17:59:54.030241Z",
     "iopub.status.idle": "2021-10-07T17:59:54.035525Z",
     "shell.execute_reply": "2021-10-07T17:59:54.034469Z",
     "shell.execute_reply.started": "2021-10-07T17:59:54.030684Z"
    }
   },
   "outputs": [],
   "source": []
  },
  {
   "cell_type": "markdown",
   "metadata": {},
   "source": [
    "# Resize All Images"
   ]
  },
  {
   "cell_type": "code",
   "execution_count": 27,
   "metadata": {
    "execution": {
     "iopub.execute_input": "2021-10-07T17:49:15.562513Z",
     "iopub.status.busy": "2021-10-07T17:49:15.561454Z",
     "iopub.status.idle": "2021-10-07T17:49:15.976334Z",
     "shell.execute_reply": "2021-10-07T17:49:15.975340Z",
     "shell.execute_reply.started": "2021-10-07T17:49:15.562439Z"
    }
   },
   "outputs": [
    {
     "name": "stdout",
     "output_type": "stream",
     "text": [
      "(150, 150, 3)\n",
      "(150, 150, 3)\n",
      "(150, 150, 3)\n",
      "(150, 150, 3)\n",
      "(150, 150, 3)\n",
      "(150, 150, 3)\n",
      "(150, 150, 3)\n",
      "(150, 150, 3)\n",
      "(150, 150, 3)\n",
      "(150, 150, 3)\n",
      "(150, 150, 3)\n",
      "(150, 150, 3)\n",
      "(150, 150, 3)\n",
      "(150, 150, 3)\n",
      "(150, 150, 3)\n",
      "(150, 150, 3)\n",
      "(150, 150, 3)\n",
      "(150, 150, 3)\n",
      "(150, 150, 3)\n",
      "(150, 150, 3)\n",
      "(150, 150, 3)\n",
      "(150, 150, 3)\n",
      "(150, 150, 3)\n",
      "(150, 150, 3)\n",
      "(150, 150, 3)\n",
      "(150, 150, 3)\n",
      "(150, 150, 3)\n",
      "(150, 150, 3)\n",
      "(150, 150, 3)\n",
      "(150, 150, 3)\n",
      "(150, 150, 3)\n",
      "(150, 150, 3)\n",
      "(150, 150, 3)\n",
      "(150, 150, 3)\n",
      "(150, 150, 3)\n",
      "(150, 150, 3)\n",
      "(150, 150, 3)\n",
      "(150, 150, 3)\n",
      "(150, 150, 3)\n",
      "(150, 150, 3)\n",
      "(150, 150, 3)\n",
      "(150, 150, 3)\n",
      "(150, 150, 3)\n",
      "(150, 150, 3)\n",
      "(150, 150, 3)\n",
      "(150, 150, 3)\n",
      "(150, 150, 3)\n",
      "(150, 150, 3)\n",
      "(150, 150, 3)\n",
      "(150, 150, 3)\n",
      "(150, 150, 3)\n",
      "(150, 150, 3)\n",
      "(150, 150, 3)\n",
      "(150, 150, 3)\n",
      "(150, 150, 3)\n",
      "(150, 150, 3)\n",
      "(150, 150, 3)\n",
      "(150, 150, 3)\n",
      "(150, 150, 3)\n",
      "(150, 150, 3)\n",
      "(150, 150, 3)\n",
      "(150, 150, 3)\n",
      "(150, 150, 3)\n",
      "(150, 150, 3)\n",
      "(150, 150, 3)\n",
      "(150, 150, 3)\n",
      "(150, 150, 3)\n",
      "(150, 150, 3)\n",
      "(150, 150, 3)\n",
      "(150, 150, 3)\n",
      "(150, 150, 3)\n",
      "(150, 150, 3)\n",
      "(150, 150, 3)\n",
      "(150, 150, 3)\n",
      "(150, 150, 3)\n",
      "(150, 150, 3)\n",
      "(150, 150, 3)\n",
      "(150, 150, 3)\n",
      "(150, 150, 3)\n",
      "(150, 150, 3)\n",
      "(150, 150, 3)\n",
      "(150, 150, 3)\n",
      "(150, 150, 3)\n",
      "(150, 150, 3)\n",
      "(150, 150, 3)\n",
      "(150, 150, 3)\n",
      "(150, 150, 3)\n",
      "(150, 150, 3)\n",
      "(150, 150, 3)\n",
      "(150, 150, 3)\n",
      "(150, 150, 3)\n",
      "(150, 150, 3)\n",
      "(150, 150, 3)\n",
      "(150, 150, 3)\n",
      "(150, 150, 3)\n",
      "(150, 150, 3)\n",
      "(150, 150, 3)\n",
      "(150, 150, 3)\n",
      "(150, 150, 3)\n",
      "(150, 150, 3)\n",
      "(150, 150, 3)\n",
      "(150, 150, 3)\n",
      "(150, 150, 3)\n",
      "(150, 150, 3)\n",
      "(150, 150, 3)\n",
      "(150, 150, 3)\n",
      "(150, 150, 3)\n",
      "(150, 150, 3)\n",
      "(150, 150, 3)\n",
      "(150, 150, 3)\n",
      "(150, 150, 3)\n",
      "(150, 150, 3)\n",
      "(150, 150, 3)\n",
      "(150, 150, 3)\n",
      "(150, 150, 3)\n",
      "(150, 150, 3)\n",
      "(150, 150, 3)\n",
      "(150, 150, 3)\n",
      "(150, 150, 3)\n",
      "(150, 150, 3)\n"
     ]
    }
   ],
   "source": [
    "import cv2 \n",
    "\n",
    "for img in path_img :\n",
    "    image = cv2.imread(img)\n",
    "    image = cv2.resize(image, (150, 150)) \n",
    "    print(image.shape)"
   ]
  },
  {
   "cell_type": "code",
   "execution_count": 28,
   "metadata": {
    "execution": {
     "iopub.execute_input": "2021-10-07T17:49:16.156029Z",
     "iopub.status.busy": "2021-10-07T17:49:16.155689Z",
     "iopub.status.idle": "2021-10-07T17:49:16.162231Z",
     "shell.execute_reply": "2021-10-07T17:49:16.160450Z",
     "shell.execute_reply.started": "2021-10-07T17:49:16.155999Z"
    },
    "scrolled": true
   },
   "outputs": [
    {
     "data": {
      "text/plain": [
       "['IMD108.bmp',\n",
       " 'IMD092.bmp',\n",
       " 'IMD112.bmp',\n",
       " 'IMD423.bmp',\n",
       " 'IMD397.bmp',\n",
       " 'IMD348.bmp',\n",
       " 'IMD150.bmp',\n",
       " 'IMD400.bmp',\n",
       " 'IMD146.bmp',\n",
       " 'IMD285.bmp',\n",
       " 'IMD208.bmp',\n",
       " 'IMD406.bmp',\n",
       " 'IMD175.bmp',\n",
       " 'IMD204.bmp',\n",
       " 'IMD429.bmp',\n",
       " 'IMD044.bmp',\n",
       " 'IMD198.bmp',\n",
       " 'IMD152.bmp',\n",
       " 'IMD384.bmp',\n",
       " 'IMD161.bmp',\n",
       " 'IMD349.bmp',\n",
       " 'IMD080.bmp',\n",
       " 'IMD025.bmp',\n",
       " 'IMD168.bmp',\n",
       " 'IMD383.bmp',\n",
       " 'IMD041.bmp',\n",
       " 'IMD196.bmp',\n",
       " 'IMD010.bmp',\n",
       " 'IMD118.bmp',\n",
       " 'IMD380.bmp',\n",
       " 'IMD200.bmp',\n",
       " 'IMD421.bmp',\n",
       " 'IMD038.bmp',\n",
       " 'IMD133.bmp',\n",
       " 'IMD390.bmp',\n",
       " 'IMD381.bmp',\n",
       " 'IMD064.bmp',\n",
       " 'IMD159.bmp',\n",
       " 'IMD134.bmp',\n",
       " 'IMD284.bmp',\n",
       " 'IMD404.bmp',\n",
       " 'IMD042.bmp',\n",
       " 'IMD101.bmp',\n",
       " 'IMD065.bmp',\n",
       " 'IMD022.bmp',\n",
       " 'IMD125.bmp',\n",
       " 'IMD039.bmp',\n",
       " 'IMD426.bmp',\n",
       " 'IMD035.bmp',\n",
       " 'IMD399.bmp',\n",
       " 'IMD411.bmp',\n",
       " 'IMD242.bmp',\n",
       " 'IMD206.bmp',\n",
       " 'IMD197.bmp',\n",
       " 'IMD058.bmp',\n",
       " 'IMD160.bmp',\n",
       " 'IMD061.bmp',\n",
       " 'IMD372.bmp',\n",
       " 'IMD425.bmp',\n",
       " 'IMD402.bmp',\n",
       " 'IMD240.bmp',\n",
       " 'IMD107.bmp',\n",
       " 'IMD365.bmp',\n",
       " 'IMD176.bmp',\n",
       " 'IMD405.bmp',\n",
       " 'IMD364.bmp',\n",
       " 'IMD395.bmp',\n",
       " 'IMD182.bmp',\n",
       " 'IMD420.bmp',\n",
       " 'IMD367.bmp',\n",
       " 'IMD375.bmp',\n",
       " 'IMD410.bmp',\n",
       " 'IMD020.bmp',\n",
       " 'IMD162.bmp',\n",
       " 'IMD424.bmp',\n",
       " 'IMD009.bmp',\n",
       " 'IMD203.bmp',\n",
       " 'IMD144.bmp',\n",
       " 'IMD016.bmp',\n",
       " 'IMD147.bmp',\n",
       " 'IMD408.bmp',\n",
       " 'IMD403.bmp',\n",
       " 'IMD088.bmp',\n",
       " 'IMD418.bmp',\n",
       " 'IMD394.bmp',\n",
       " 'IMD085.bmp',\n",
       " 'IMD063.bmp',\n",
       " 'IMD435.bmp',\n",
       " 'IMD135.bmp',\n",
       " 'IMD371.bmp',\n",
       " 'IMD389.bmp',\n",
       " 'IMD413.bmp',\n",
       " 'IMD103.bmp',\n",
       " 'IMD219.bmp',\n",
       " 'IMD199.bmp',\n",
       " 'IMD407.bmp']"
      ]
     },
     "execution_count": 28,
     "metadata": {},
     "output_type": "execute_result"
    }
   ],
   "source": [
    "Train_imgs = X_train['Name'].values.tolist()\n",
    "Train_imgs"
   ]
  },
  {
   "cell_type": "code",
   "execution_count": 29,
   "metadata": {
    "execution": {
     "iopub.execute_input": "2021-10-07T17:49:22.956768Z",
     "iopub.status.busy": "2021-10-07T17:49:22.956472Z",
     "iopub.status.idle": "2021-10-07T17:49:22.962182Z",
     "shell.execute_reply": "2021-10-07T17:49:22.961321Z",
     "shell.execute_reply.started": "2021-10-07T17:49:22.956740Z"
    }
   },
   "outputs": [],
   "source": [
    "Test_imgs = X_test['Name'].values.tolist()"
   ]
  },
  {
   "cell_type": "code",
   "execution_count": 30,
   "metadata": {
    "execution": {
     "iopub.execute_input": "2021-10-07T17:49:22.966134Z",
     "iopub.status.busy": "2021-10-07T17:49:22.965750Z",
     "iopub.status.idle": "2021-10-07T17:49:22.972692Z",
     "shell.execute_reply": "2021-10-07T17:49:22.971847Z",
     "shell.execute_reply.started": "2021-10-07T17:49:22.966103Z"
    }
   },
   "outputs": [
    {
     "name": "stdout",
     "output_type": "stream",
     "text": [
      "['IMD108', 'IMD092', 'IMD112', 'IMD423', 'IMD397', 'IMD348', 'IMD150', 'IMD400', 'IMD146', 'IMD285', 'IMD208', 'IMD406', 'IMD175', 'IMD204', 'IMD429', 'IMD044', 'IMD198', 'IMD152', 'IMD384', 'IMD161', 'IMD349', 'IMD080', 'IMD025', 'IMD168', 'IMD383', 'IMD041', 'IMD196', 'IMD010', 'IMD118', 'IMD380', 'IMD200', 'IMD421', 'IMD038', 'IMD133', 'IMD390', 'IMD381', 'IMD064', 'IMD159', 'IMD134', 'IMD284', 'IMD404', 'IMD042', 'IMD101', 'IMD065', 'IMD022', 'IMD125', 'IMD039', 'IMD426', 'IMD035', 'IMD399', 'IMD411', 'IMD242', 'IMD206', 'IMD197', 'IMD058', 'IMD160', 'IMD061', 'IMD372', 'IMD425', 'IMD402', 'IMD240', 'IMD107', 'IMD365', 'IMD176', 'IMD405', 'IMD364', 'IMD395', 'IMD182', 'IMD420', 'IMD367', 'IMD375', 'IMD410', 'IMD020', 'IMD162', 'IMD424', 'IMD009', 'IMD203', 'IMD144', 'IMD016', 'IMD147', 'IMD408', 'IMD403', 'IMD088', 'IMD418', 'IMD394', 'IMD085', 'IMD063', 'IMD435', 'IMD135', 'IMD371', 'IMD389', 'IMD413', 'IMD103', 'IMD219', 'IMD199', 'IMD407']\n"
     ]
    }
   ],
   "source": [
    "Train_Name = []\n",
    "for img in Train_imgs : \n",
    "    Train_Name.append(img.strip('.bmp'))\n",
    "print(Train_Name)"
   ]
  },
  {
   "cell_type": "code",
   "execution_count": 31,
   "metadata": {
    "execution": {
     "iopub.execute_input": "2021-10-07T17:49:23.056863Z",
     "iopub.status.busy": "2021-10-07T17:49:23.056542Z",
     "iopub.status.idle": "2021-10-07T17:49:23.062397Z",
     "shell.execute_reply": "2021-10-07T17:49:23.061638Z",
     "shell.execute_reply.started": "2021-10-07T17:49:23.056828Z"
    }
   },
   "outputs": [
    {
     "name": "stdout",
     "output_type": "stream",
     "text": [
      "['IMD142', 'IMD173', 'IMD024', 'IMD207', 'IMD156', 'IMD378', 'IMD392', 'IMD045', 'IMD105', 'IMD417', 'IMD132', 'IMD374', 'IMD050', 'IMD017', 'IMD091', 'IMD211', 'IMD419', 'IMD003', 'IMD090', 'IMD409', 'IMD379', 'IMD143', 'IMD177', 'IMD385']\n"
     ]
    }
   ],
   "source": [
    "Test_Name = []\n",
    "for img in Test_imgs  : \n",
    "    Test_Name.append(img.strip('.bmp'))\n",
    "print(Test_Name)"
   ]
  },
  {
   "cell_type": "code",
   "execution_count": 32,
   "metadata": {
    "execution": {
     "iopub.execute_input": "2021-10-07T17:49:23.106564Z",
     "iopub.status.busy": "2021-10-07T17:49:23.105879Z",
     "iopub.status.idle": "2021-10-07T17:49:23.112412Z",
     "shell.execute_reply": "2021-10-07T17:49:23.111443Z",
     "shell.execute_reply.started": "2021-10-07T17:49:23.106526Z"
    }
   },
   "outputs": [
    {
     "name": "stdout",
     "output_type": "stream",
     "text": [
      "['PH2 Dataset images/IMD108/IMD108_Dermoscopic_Image/IMD108.bmp', 'PH2 Dataset images/IMD092/IMD092_Dermoscopic_Image/IMD092.bmp', 'PH2 Dataset images/IMD112/IMD112_Dermoscopic_Image/IMD112.bmp', 'PH2 Dataset images/IMD423/IMD423_Dermoscopic_Image/IMD423.bmp', 'PH2 Dataset images/IMD397/IMD397_Dermoscopic_Image/IMD397.bmp']\n"
     ]
    }
   ],
   "source": [
    "imgTrain_path = []\n",
    "\n",
    "for img in Train_Name :      \n",
    "    imgTrain_path.append('PH2 Dataset images/'+ img +'/' + img+'_Dermoscopic_Image/' +img +'.bmp' )\n",
    "\n",
    "print(imgTrain_path[0:5])"
   ]
  },
  {
   "cell_type": "code",
   "execution_count": 33,
   "metadata": {
    "execution": {
     "iopub.execute_input": "2021-10-07T17:49:23.125964Z",
     "iopub.status.busy": "2021-10-07T17:49:23.125256Z",
     "iopub.status.idle": "2021-10-07T17:49:23.131277Z",
     "shell.execute_reply": "2021-10-07T17:49:23.130620Z",
     "shell.execute_reply.started": "2021-10-07T17:49:23.125927Z"
    }
   },
   "outputs": [
    {
     "name": "stdout",
     "output_type": "stream",
     "text": [
      "['PH2 Dataset images/IMD142/IMD142_Dermoscopic_Image/IMD142.bmp', 'PH2 Dataset images/IMD173/IMD173_Dermoscopic_Image/IMD173.bmp', 'PH2 Dataset images/IMD024/IMD024_Dermoscopic_Image/IMD024.bmp', 'PH2 Dataset images/IMD207/IMD207_Dermoscopic_Image/IMD207.bmp', 'PH2 Dataset images/IMD156/IMD156_Dermoscopic_Image/IMD156.bmp']\n"
     ]
    }
   ],
   "source": [
    "imgTest_path = []\n",
    "\n",
    "for img in Test_Name :      \n",
    "    imgTest_path.append('PH2 Dataset images/'+ img +'/' + img+'_Dermoscopic_Image/' +img +'.bmp' )\n",
    "\n",
    "print(imgTest_path[0:5])"
   ]
  },
  {
   "cell_type": "markdown",
   "metadata": {},
   "source": [
    "# Copying all train images to (train folder) & all test images to (test folder)"
   ]
  },
  {
   "cell_type": "code",
   "execution_count": 34,
   "metadata": {
    "execution": {
     "iopub.execute_input": "2021-10-07T17:25:55.925150Z",
     "iopub.status.busy": "2021-10-07T17:25:55.924902Z",
     "iopub.status.idle": "2021-10-07T17:25:55.928425Z",
     "shell.execute_reply": "2021-10-07T17:25:55.927898Z",
     "shell.execute_reply.started": "2021-10-07T17:25:55.925126Z"
    }
   },
   "outputs": [
    {
     "name": "stdout",
     "output_type": "stream",
     "text": [
      "Directory exists:True\n",
      "Directory exists:True\n"
     ]
    }
   ],
   "source": [
    "from os import path\n",
    "\n",
    "try:\n",
    "    os.makedirs('IMages_Test_ph2')\n",
    "    os.makedirs('IMages_Train_ph2')\n",
    "    \n",
    "except:\n",
    "    print (\"Directory exists:\" + str(path.exists('IMages_Train_ph2')))\n",
    "    print (\"Directory exists:\" + str(path.exists('IMages_Test_ph2')))\n"
   ]
  },
  {
   "cell_type": "code",
   "execution_count": 35,
   "metadata": {
    "execution": {
     "iopub.execute_input": "2021-10-07T17:26:10.663759Z",
     "iopub.status.busy": "2021-10-07T17:26:10.663235Z",
     "iopub.status.idle": "2021-10-07T17:26:11.160123Z",
     "shell.execute_reply": "2021-10-07T17:26:11.159549Z",
     "shell.execute_reply.started": "2021-10-07T17:26:10.663719Z"
    }
   },
   "outputs": [],
   "source": [
    "import shutil \n",
    "\n",
    "\n",
    "for f in imgTrain_path :\n",
    "    shutil.copy(f, 'IMages_Train_ph2')\n",
    "\n",
    "for f in imgTest_path :\n",
    "    shutil.copy(f, 'IMages_Test_ph2')"
   ]
  },
  {
   "cell_type": "code",
   "execution_count": 36,
   "metadata": {
    "execution": {
     "iopub.execute_input": "2021-10-07T18:00:09.124951Z",
     "iopub.status.busy": "2021-10-07T18:00:09.124467Z",
     "iopub.status.idle": "2021-10-07T18:00:09.142021Z",
     "shell.execute_reply": "2021-10-07T18:00:09.140709Z",
     "shell.execute_reply.started": "2021-10-07T18:00:09.124918Z"
    }
   },
   "outputs": [
    {
     "name": "stdout",
     "output_type": "stream",
     "text": [
      "Found 96 validated image filenames belonging to 2 classes.\n",
      "Found 24 validated image filenames.\n"
     ]
    }
   ],
   "source": [
    "datagen = ImageDataGenerator(rescale=1 / 255.0)\n",
    "\n",
    "train_generator = datagen.flow_from_dataframe(\n",
    "    dataframe= X_train,\n",
    "    directory='./IMages_Train_ph2/',\n",
    "    x_col='Name',\n",
    "    y_col=\"Clinical Diagnosis\",\n",
    "    target_size=(150, 150),\n",
    "    color_mode=\"rgb\",\n",
    "    batch_size=8,\n",
    "    class_mode=\"binary\",\n",
    "    subset='training',\n",
    "    shuffle=True,\n",
    "    seed=42\n",
    ")\n",
    "\n",
    "\n",
    "test_generator=datagen.flow_from_dataframe(\n",
    "    dataframe= X_test,\n",
    "    directory='IMages_Test_ph2/',\n",
    "    x_col='Name',\n",
    "    y_col=None,\n",
    "    batch_size=1,\n",
    "    seed=42,\n",
    "    shuffle=False,\n",
    "    class_mode=None, \n",
    "    target_size=(150, 150 ) ,\n",
    "    color_mode=\"rgb\")"
   ]
  },
  {
   "cell_type": "code",
   "execution_count": 37,
   "metadata": {
    "execution": {
     "iopub.execute_input": "2021-10-07T18:02:11.648182Z",
     "iopub.status.busy": "2021-10-07T18:02:11.647855Z",
     "iopub.status.idle": "2021-10-07T18:02:11.745626Z",
     "shell.execute_reply": "2021-10-07T18:02:11.744724Z",
     "shell.execute_reply.started": "2021-10-07T18:02:11.648150Z"
    }
   },
   "outputs": [],
   "source": [
    "model = Sequential()\n",
    "model.add(Conv2D(32,3,padding=\"same\", activation=\"relu\", input_shape=(150,150,3)))\n",
    "model.add(MaxPool2D())\n",
    "\n",
    "model.add(Conv2D(32, 3, padding=\"same\", activation=\"relu\"))\n",
    "model.add(MaxPool2D())\n",
    "\n",
    "model.add(Conv2D(64, 3, padding=\"same\", activation=\"relu\"))\n",
    "model.add(MaxPool2D())\n",
    "model.add(Dropout(0.4))\n",
    "\n",
    "model.add(Flatten())\n",
    "model.add(Dense(128,activation=\"relu\"))\n",
    "model.add(Dense(1, activation=\"sigmoid\"))\n",
    "model.add(Flatten())"
   ]
  },
  {
   "cell_type": "code",
   "execution_count": 38,
   "metadata": {},
   "outputs": [
    {
     "name": "stdout",
     "output_type": "stream",
     "text": [
      "Model: \"sequential\"\n",
      "_________________________________________________________________\n",
      "Layer (type)                 Output Shape              Param #   \n",
      "=================================================================\n",
      "conv2d (Conv2D)              (None, 150, 150, 32)      896       \n",
      "_________________________________________________________________\n",
      "max_pooling2d (MaxPooling2D) (None, 75, 75, 32)        0         \n",
      "_________________________________________________________________\n",
      "conv2d_1 (Conv2D)            (None, 75, 75, 32)        9248      \n",
      "_________________________________________________________________\n",
      "max_pooling2d_1 (MaxPooling2 (None, 37, 37, 32)        0         \n",
      "_________________________________________________________________\n",
      "conv2d_2 (Conv2D)            (None, 37, 37, 64)        18496     \n",
      "_________________________________________________________________\n",
      "max_pooling2d_2 (MaxPooling2 (None, 18, 18, 64)        0         \n",
      "_________________________________________________________________\n",
      "dropout (Dropout)            (None, 18, 18, 64)        0         \n",
      "_________________________________________________________________\n",
      "flatten (Flatten)            (None, 20736)             0         \n",
      "_________________________________________________________________\n",
      "dense (Dense)                (None, 128)               2654336   \n",
      "_________________________________________________________________\n",
      "dense_1 (Dense)              (None, 1)                 129       \n",
      "_________________________________________________________________\n",
      "flatten_1 (Flatten)          (None, 1)                 0         \n",
      "=================================================================\n",
      "Total params: 2,683,105\n",
      "Trainable params: 2,683,105\n",
      "Non-trainable params: 0\n",
      "_________________________________________________________________\n",
      "None\n"
     ]
    }
   ],
   "source": [
    "print(model.summary())"
   ]
  },
  {
   "cell_type": "code",
   "execution_count": 39,
   "metadata": {},
   "outputs": [],
   "source": [
    "opt = Adam(lr=0.001)\n",
    "model.compile(optimizer=opt, loss='binary_crossentropy', metrics=['accuracy'])"
   ]
  },
  {
   "cell_type": "code",
   "execution_count": 40,
   "metadata": {
    "execution": {
     "iopub.execute_input": "2021-10-07T18:02:18.671763Z",
     "iopub.status.busy": "2021-10-07T18:02:18.671474Z",
     "iopub.status.idle": "2021-10-07T18:02:34.703931Z",
     "shell.execute_reply": "2021-10-07T18:02:34.703071Z",
     "shell.execute_reply.started": "2021-10-07T18:02:18.671733Z"
    }
   },
   "outputs": [
    {
     "name": "stdout",
     "output_type": "stream",
     "text": [
      "WARNING:tensorflow:From <ipython-input-40-5c7215169c6e>:2: Model.fit_generator (from tensorflow.python.keras.engine.training) is deprecated and will be removed in a future version.\n",
      "Instructions for updating:\n",
      "Please use Model.fit, which supports generators.\n",
      "Epoch 1/20\n",
      "12/12 [==============================] - 1s 101ms/step - loss: 0.8620 - accuracy: 0.4271 - val_loss: 0.0000e+00 - val_accuracy: 0.0000e+00\n",
      "Epoch 2/20\n",
      "12/12 [==============================] - 1s 88ms/step - loss: 0.6204 - accuracy: 0.6458 - val_loss: 0.0000e+00 - val_accuracy: 0.0000e+00\n",
      "Epoch 3/20\n",
      "12/12 [==============================] - 1s 92ms/step - loss: 0.6237 - accuracy: 0.6146 - val_loss: 0.0000e+00 - val_accuracy: 0.0000e+00\n",
      "Epoch 4/20\n",
      "12/12 [==============================] - 1s 92ms/step - loss: 0.5561 - accuracy: 0.7396 - val_loss: 0.0000e+00 - val_accuracy: 0.0000e+00\n",
      "Epoch 5/20\n",
      "12/12 [==============================] - 1s 91ms/step - loss: 0.4270 - accuracy: 0.7500 - val_loss: 0.0000e+00 - val_accuracy: 0.0000e+00\n",
      "Epoch 6/20\n",
      "12/12 [==============================] - 1s 88ms/step - loss: 0.3147 - accuracy: 0.8438 - val_loss: 0.0000e+00 - val_accuracy: 0.0000e+00\n",
      "Epoch 7/20\n",
      "12/12 [==============================] - 1s 88ms/step - loss: 0.3652 - accuracy: 0.8229 - val_loss: 0.0000e+00 - val_accuracy: 0.0000e+00\n",
      "Epoch 8/20\n",
      "12/12 [==============================] - 1s 87ms/step - loss: 0.4045 - accuracy: 0.8125 - val_loss: 0.0000e+00 - val_accuracy: 0.0000e+00\n",
      "Epoch 9/20\n",
      "12/12 [==============================] - 1s 90ms/step - loss: 0.3257 - accuracy: 0.8750 - val_loss: 0.0000e+00 - val_accuracy: 0.0000e+00\n",
      "Epoch 10/20\n",
      "12/12 [==============================] - 1s 89ms/step - loss: 0.2919 - accuracy: 0.8542 - val_loss: 0.0000e+00 - val_accuracy: 0.0000e+00\n",
      "Epoch 11/20\n",
      "12/12 [==============================] - 1s 92ms/step - loss: 0.2790 - accuracy: 0.8750 - val_loss: 0.0000e+00 - val_accuracy: 0.0000e+00\n",
      "Epoch 12/20\n",
      "12/12 [==============================] - 1s 96ms/step - loss: 0.3023 - accuracy: 0.8333 - val_loss: 0.0000e+00 - val_accuracy: 0.0000e+00\n",
      "Epoch 13/20\n",
      "12/12 [==============================] - 1s 88ms/step - loss: 0.1706 - accuracy: 0.9062 - val_loss: 0.0000e+00 - val_accuracy: 0.0000e+00\n",
      "Epoch 14/20\n",
      "12/12 [==============================] - 1s 89ms/step - loss: 0.1244 - accuracy: 0.9583 - val_loss: 0.0000e+00 - val_accuracy: 0.0000e+00\n",
      "Epoch 15/20\n",
      "12/12 [==============================] - 1s 90ms/step - loss: 0.1439 - accuracy: 0.9479 - val_loss: 0.0000e+00 - val_accuracy: 0.0000e+00\n",
      "Epoch 16/20\n",
      "12/12 [==============================] - 1s 104ms/step - loss: 0.1585 - accuracy: 0.9271 - val_loss: 0.0000e+00 - val_accuracy: 0.0000e+00\n",
      "Epoch 17/20\n",
      "12/12 [==============================] - 1s 101ms/step - loss: 0.1606 - accuracy: 0.9167 - val_loss: 0.0000e+00 - val_accuracy: 0.0000e+00\n",
      "Epoch 18/20\n",
      "12/12 [==============================] - 1s 110ms/step - loss: 0.1524 - accuracy: 0.9271 - val_loss: 0.0000e+00 - val_accuracy: 0.0000e+00\n",
      "Epoch 19/20\n",
      "12/12 [==============================] - 1s 93ms/step - loss: 0.0912 - accuracy: 0.9792 - val_loss: 0.0000e+00 - val_accuracy: 0.0000e+00\n",
      "Epoch 20/20\n",
      "12/12 [==============================] - 1s 88ms/step - loss: 0.0737 - accuracy: 0.9688 - val_loss: 0.0000e+00 - val_accuracy: 0.0000e+00\n"
     ]
    }
   ],
   "source": [
    "n_epochs = 20\n",
    "history= model.fit_generator(train_generator,validation_data = test_generator,\n",
    "                    epochs=n_epochs)"
   ]
  },
  {
   "cell_type": "code",
   "execution_count": 41,
   "metadata": {},
   "outputs": [
    {
     "name": "stdout",
     "output_type": "stream",
     "text": [
      "dict_keys(['loss', 'accuracy', 'val_loss', 'val_accuracy'])\n"
     ]
    }
   ],
   "source": [
    "print(history.history.keys())"
   ]
  },
  {
   "cell_type": "code",
   "execution_count": 42,
   "metadata": {},
   "outputs": [
    {
     "data": {
      "image/png": "[encoded data removed]",
      "text/plain": [
       "<Figure size 432x288 with 1 Axes>"
      ]
     },
     "metadata": {
      "needs_background": "light"
     },
     "output_type": "display_data"
    }
   ],
   "source": [
    "from matplotlib import pyplot as plt\n",
    "plt.plot(history.history['loss'])\n",
    "plt.plot(history.history['accuracy'])\n",
    "\n",
    "plt.title('Train Loss and accuracy')\n",
    "plt.ylabel('Loss')\n",
    "plt.xlabel('Epoch')\n",
    "plt.legend(['loss', 'accuracy'], loc='upper left')\n",
    "plt.show()\n"
   ]
  },
  {
   "cell_type": "code",
   "execution_count": 43,
   "metadata": {
    "execution": {
     "iopub.execute_input": "2021-10-07T18:02:48.397065Z",
     "iopub.status.busy": "2021-10-07T18:02:48.396780Z",
     "iopub.status.idle": "2021-10-07T18:02:48.818343Z",
     "shell.execute_reply": "2021-10-07T18:02:48.817686Z",
     "shell.execute_reply.started": "2021-10-07T18:02:48.397039Z"
    }
   },
   "outputs": [
    {
     "name": "stdout",
     "output_type": "stream",
     "text": [
      "WARNING:tensorflow:From <ipython-input-43-9e721f4f30c0>:2: Model.predict_generator (from tensorflow.python.keras.engine.training) is deprecated and will be removed in a future version.\n",
      "Instructions for updating:\n",
      "Please use Model.predict, which supports generators.\n",
      "24/24 [==============================] - 0s 5ms/step\n"
     ]
    }
   ],
   "source": [
    "test_generator.reset()\n",
    "pred = model.predict_generator(test_generator,verbose=1)"
   ]
  },
  {
   "cell_type": "code",
   "execution_count": 44,
   "metadata": {
    "execution": {
     "iopub.execute_input": "2021-10-07T18:02:50.786053Z",
     "iopub.status.busy": "2021-10-07T18:02:50.785181Z",
     "iopub.status.idle": "2021-10-07T18:02:50.791187Z",
     "shell.execute_reply": "2021-10-07T18:02:50.790219Z",
     "shell.execute_reply.started": "2021-10-07T18:02:50.786000Z"
    }
   },
   "outputs": [],
   "source": [
    "predicted = np.argmax(pred,axis=1)"
   ]
  },
  {
   "cell_type": "code",
   "execution_count": 45,
   "metadata": {
    "execution": {
     "iopub.execute_input": "2021-10-07T18:02:51.698166Z",
     "iopub.status.busy": "2021-10-07T18:02:51.697055Z",
     "iopub.status.idle": "2021-10-07T18:02:51.703677Z",
     "shell.execute_reply": "2021-10-07T18:02:51.702691Z",
     "shell.execute_reply.started": "2021-10-07T18:02:51.698110Z"
    }
   },
   "outputs": [
    {
     "data": {
      "text/plain": [
       "array([0, 0, 0, 0, 0, 0, 0, 0, 0, 0, 0, 0, 0, 0, 0, 0, 0, 0, 0, 0, 0, 0,\n",
       "       0, 0], dtype=int64)"
      ]
     },
     "execution_count": 45,
     "metadata": {},
     "output_type": "execute_result"
    }
   ],
   "source": [
    "predicted"
   ]
  },
  {
   "cell_type": "code",
   "execution_count": 46,
   "metadata": {
    "execution": {
     "iopub.execute_input": "2021-10-07T18:00:36.442913Z",
     "iopub.status.busy": "2021-10-07T18:00:36.441883Z",
     "iopub.status.idle": "2021-10-07T18:00:36.448041Z",
     "shell.execute_reply": "2021-10-07T18:00:36.447007Z",
     "shell.execute_reply.started": "2021-10-07T18:00:36.442877Z"
    }
   },
   "outputs": [],
   "source": [
    "y_test = pd.DataFrame(y_test)"
   ]
  },
  {
   "cell_type": "code",
   "execution_count": 47,
   "metadata": {
    "execution": {
     "iopub.execute_input": "2021-10-07T18:00:37.969685Z",
     "iopub.status.busy": "2021-10-07T18:00:37.969366Z",
     "iopub.status.idle": "2021-10-07T18:00:37.980593Z",
     "shell.execute_reply": "2021-10-07T18:00:37.979752Z",
     "shell.execute_reply.started": "2021-10-07T18:00:37.969652Z"
    }
   },
   "outputs": [
    {
     "data": {
      "text/html": [
       "<div>\n",
       "<style scoped>\n",
       "    .dataframe tbody tr th:only-of-type {\n",
       "        vertical-align: middle;\n",
       "    }\n",
       "\n",
       "    .dataframe tbody tr th {\n",
       "        vertical-align: top;\n",
       "    }\n",
       "\n",
       "    .dataframe thead th {\n",
       "        text-align: right;\n",
       "    }\n",
       "</style>\n",
       "<table border=\"1\" class=\"dataframe\">\n",
       "  <thead>\n",
       "    <tr style=\"text-align: right;\">\n",
       "      <th></th>\n",
       "      <th>Clinical Diagnosis</th>\n",
       "    </tr>\n",
       "  </thead>\n",
       "  <tbody>\n",
       "    <tr>\n",
       "      <th>44</th>\n",
       "      <td>0</td>\n",
       "    </tr>\n",
       "    <tr>\n",
       "      <th>47</th>\n",
       "      <td>0</td>\n",
       "    </tr>\n",
       "    <tr>\n",
       "      <th>4</th>\n",
       "      <td>0</td>\n",
       "    </tr>\n",
       "    <tr>\n",
       "      <th>55</th>\n",
       "      <td>0</td>\n",
       "    </tr>\n",
       "    <tr>\n",
       "      <th>26</th>\n",
       "      <td>0</td>\n",
       "    </tr>\n",
       "    <tr>\n",
       "      <th>64</th>\n",
       "      <td>0</td>\n",
       "    </tr>\n",
       "    <tr>\n",
       "      <th>73</th>\n",
       "      <td>0</td>\n",
       "    </tr>\n",
       "    <tr>\n",
       "      <th>10</th>\n",
       "      <td>0</td>\n",
       "    </tr>\n",
       "    <tr>\n",
       "      <th>40</th>\n",
       "      <td>0</td>\n",
       "    </tr>\n",
       "    <tr>\n",
       "      <th>107</th>\n",
       "      <td>1</td>\n",
       "    </tr>\n",
       "    <tr>\n",
       "      <th>18</th>\n",
       "      <td>0</td>\n",
       "    </tr>\n",
       "    <tr>\n",
       "      <th>62</th>\n",
       "      <td>0</td>\n",
       "    </tr>\n",
       "    <tr>\n",
       "      <th>11</th>\n",
       "      <td>0</td>\n",
       "    </tr>\n",
       "    <tr>\n",
       "      <th>36</th>\n",
       "      <td>0</td>\n",
       "    </tr>\n",
       "    <tr>\n",
       "      <th>89</th>\n",
       "      <td>1</td>\n",
       "    </tr>\n",
       "    <tr>\n",
       "      <th>91</th>\n",
       "      <td>1</td>\n",
       "    </tr>\n",
       "    <tr>\n",
       "      <th>109</th>\n",
       "      <td>1</td>\n",
       "    </tr>\n",
       "    <tr>\n",
       "      <th>0</th>\n",
       "      <td>0</td>\n",
       "    </tr>\n",
       "    <tr>\n",
       "      <th>88</th>\n",
       "      <td>1</td>\n",
       "    </tr>\n",
       "    <tr>\n",
       "      <th>104</th>\n",
       "      <td>1</td>\n",
       "    </tr>\n",
       "    <tr>\n",
       "      <th>65</th>\n",
       "      <td>0</td>\n",
       "    </tr>\n",
       "    <tr>\n",
       "      <th>45</th>\n",
       "      <td>0</td>\n",
       "    </tr>\n",
       "    <tr>\n",
       "      <th>31</th>\n",
       "      <td>0</td>\n",
       "    </tr>\n",
       "    <tr>\n",
       "      <th>70</th>\n",
       "      <td>0</td>\n",
       "    </tr>\n",
       "  </tbody>\n",
       "</table>\n",
       "</div>"
      ],
      "text/plain": [
       "    Clinical Diagnosis\n",
       "44                   0\n",
       "47                   0\n",
       "4                    0\n",
       "55                   0\n",
       "26                   0\n",
       "64                   0\n",
       "73                   0\n",
       "10                   0\n",
       "40                   0\n",
       "107                  1\n",
       "18                   0\n",
       "62                   0\n",
       "11                   0\n",
       "36                   0\n",
       "89                   1\n",
       "91                   1\n",
       "109                  1\n",
       "0                    0\n",
       "88                   1\n",
       "104                  1\n",
       "65                   0\n",
       "45                   0\n",
       "31                   0\n",
       "70                   0"
      ]
     },
     "execution_count": 47,
     "metadata": {},
     "output_type": "execute_result"
    }
   ],
   "source": [
    "y_test"
   ]
  },
  {
   "cell_type": "code",
   "execution_count": 48,
   "metadata": {
    "execution": {
     "iopub.execute_input": "2021-10-07T18:01:06.460307Z",
     "iopub.status.busy": "2021-10-07T18:01:06.459701Z",
     "iopub.status.idle": "2021-10-07T18:01:06.472197Z",
     "shell.execute_reply": "2021-10-07T18:01:06.471272Z",
     "shell.execute_reply.started": "2021-10-07T18:01:06.460269Z"
    }
   },
   "outputs": [
    {
     "data": {
      "text/plain": [
       "44      True\n",
       "47      True\n",
       "4       True\n",
       "55      True\n",
       "26      True\n",
       "64      True\n",
       "73      True\n",
       "10      True\n",
       "40      True\n",
       "107    False\n",
       "18      True\n",
       "62      True\n",
       "11      True\n",
       "36      True\n",
       "89     False\n",
       "91     False\n",
       "109    False\n",
       "0       True\n",
       "88     False\n",
       "104    False\n",
       "65      True\n",
       "45      True\n",
       "31      True\n",
       "70      True\n",
       "Name: Clinical Diagnosis, dtype: bool"
      ]
     },
     "execution_count": 48,
     "metadata": {},
     "output_type": "execute_result"
    }
   ],
   "source": [
    "from sklearn.preprocessing import LabelEncoder\n",
    "\n",
    "# creating instance of labelencoder\n",
    "labelencoder = LabelEncoder()\n",
    "\n",
    "# Assigning numerical values and storing in the same column\n",
    "y_test['Clinical Diagnosis'] = labelencoder.fit_transform(y_test['Clinical Diagnosis'])\n",
    "y_test['Clinical Diagnosis'] == 0"
   ]
  },
  {
   "cell_type": "markdown",
   "metadata": {},
   "source": [
    "**Accuracy**"
   ]
  },
  {
   "cell_type": "code",
   "execution_count": 49,
   "metadata": {
    "execution": {
     "iopub.execute_input": "2021-10-07T18:03:01.520664Z",
     "iopub.status.busy": "2021-10-07T18:03:01.519956Z",
     "iopub.status.idle": "2021-10-07T18:03:01.526419Z",
     "shell.execute_reply": "2021-10-07T18:03:01.525612Z",
     "shell.execute_reply.started": "2021-10-07T18:03:01.520627Z"
    }
   },
   "outputs": [
    {
     "name": "stdout",
     "output_type": "stream",
     "text": [
      "Accuracy : 0.75\n"
     ]
    }
   ],
   "source": [
    "from sklearn.metrics import accuracy_score\n",
    "\n",
    "print(\"Accuracy : {}\".format(accuracy_score(y_test, predicted)))"
   ]
  },
  {
   "cell_type": "markdown",
   "metadata": {},
   "source": [
    "**Balance Accuracy**"
   ]
  },
  {
   "cell_type": "code",
   "execution_count": 50,
   "metadata": {
    "execution": {
     "iopub.execute_input": "2021-10-07T17:34:01.050862Z",
     "iopub.status.busy": "2021-10-07T17:34:01.050028Z",
     "iopub.status.idle": "2021-10-07T17:34:01.058693Z",
     "shell.execute_reply": "2021-10-07T17:34:01.057624Z",
     "shell.execute_reply.started": "2021-10-07T17:34:01.050795Z"
    }
   },
   "outputs": [
    {
     "data": {
      "text/plain": [
       "0.5"
      ]
     },
     "execution_count": 50,
     "metadata": {},
     "output_type": "execute_result"
    }
   ],
   "source": [
    "from sklearn.metrics import balanced_accuracy_score\n",
    "\n",
    "balance = balanced_accuracy_score(y_test,predicted)\n",
    "balance"
   ]
  },
  {
   "cell_type": "markdown",
   "metadata": {},
   "source": [
    "**precision_score**  "
   ]
  },
  {
   "cell_type": "code",
   "execution_count": 51,
   "metadata": {
    "execution": {
     "iopub.execute_input": "2021-10-07T17:34:05.912834Z",
     "iopub.status.busy": "2021-10-07T17:34:05.912526Z",
     "iopub.status.idle": "2021-10-07T17:34:05.921922Z",
     "shell.execute_reply": "2021-10-07T17:34:05.921069Z",
     "shell.execute_reply.started": "2021-10-07T17:34:05.912791Z"
    }
   },
   "outputs": [
    {
     "data": {
      "text/plain": [
       "0.75"
      ]
     },
     "execution_count": 51,
     "metadata": {},
     "output_type": "execute_result"
    }
   ],
   "source": [
    "from sklearn.metrics import precision_score\n",
    "\n",
    "precision = precision_score(y_test, predicted , average= 'micro')\n",
    "precision "
   ]
  },
  {
   "cell_type": "markdown",
   "metadata": {},
   "source": [
    "**Recall (Sensitivity)**"
   ]
  },
  {
   "cell_type": "code",
   "execution_count": 52,
   "metadata": {
    "execution": {
     "iopub.execute_input": "2021-10-07T17:34:10.790914Z",
     "iopub.status.busy": "2021-10-07T17:34:10.789850Z",
     "iopub.status.idle": "2021-10-07T17:34:10.798626Z",
     "shell.execute_reply": "2021-10-07T17:34:10.798011Z",
     "shell.execute_reply.started": "2021-10-07T17:34:10.790863Z"
    }
   },
   "outputs": [
    {
     "data": {
      "text/plain": [
       "0.75"
      ]
     },
     "execution_count": 52,
     "metadata": {},
     "output_type": "execute_result"
    }
   ],
   "source": [
    "from sklearn.metrics import recall_score\n",
    "\n",
    "recall = recall_score(y_test, predicted , average= 'micro')\n",
    "recall "
   ]
  },
  {
   "cell_type": "markdown",
   "metadata": {},
   "source": [
    "**f1 score**"
   ]
  },
  {
   "cell_type": "code",
   "execution_count": 53,
   "metadata": {
    "execution": {
     "iopub.execute_input": "2021-10-07T17:34:12.620383Z",
     "iopub.status.busy": "2021-10-07T17:34:12.619293Z",
     "iopub.status.idle": "2021-10-07T17:34:12.627563Z",
     "shell.execute_reply": "2021-10-07T17:34:12.627046Z",
     "shell.execute_reply.started": "2021-10-07T17:34:12.620325Z"
    }
   },
   "outputs": [
    {
     "data": {
      "text/plain": [
       "0.75"
      ]
     },
     "execution_count": 53,
     "metadata": {},
     "output_type": "execute_result"
    }
   ],
   "source": [
    "from sklearn.metrics import f1_score\n",
    "\n",
    "f1 = f1_score(y_test, predicted , average= 'micro')\n",
    "f1"
   ]
  },
  {
   "cell_type": "markdown",
   "metadata": {},
   "source": [
    "**Matthews correlation coefficient (MCC)**"
   ]
  },
  {
   "cell_type": "code",
   "execution_count": 54,
   "metadata": {
    "execution": {
     "iopub.execute_input": "2021-10-07T17:34:18.609591Z",
     "iopub.status.busy": "2021-10-07T17:34:18.609180Z",
     "iopub.status.idle": "2021-10-07T17:34:18.618356Z",
     "shell.execute_reply": "2021-10-07T17:34:18.617261Z",
     "shell.execute_reply.started": "2021-10-07T17:34:18.609561Z"
    }
   },
   "outputs": [
    {
     "data": {
      "text/plain": [
       "0.0"
      ]
     },
     "execution_count": 54,
     "metadata": {},
     "output_type": "execute_result"
    }
   ],
   "source": [
    "from sklearn.metrics import matthews_corrcoef\n",
    "\n",
    "MCC = matthews_corrcoef(y_test, predicted)\n",
    "MCC "
   ]
  },
  {
   "cell_type": "code",
   "execution_count": 55,
   "metadata": {
    "execution": {
     "iopub.execute_input": "2021-10-07T17:34:21.080040Z",
     "iopub.status.busy": "2021-10-07T17:34:21.079741Z",
     "iopub.status.idle": "2021-10-07T17:34:21.085045Z",
     "shell.execute_reply": "2021-10-07T17:34:21.083892Z",
     "shell.execute_reply.started": "2021-10-07T17:34:21.080012Z"
    }
   },
   "outputs": [],
   "source": [
    "y_test =y_test.values.tolist()\n",
    "pred = predicted.tolist()"
   ]
  },
  {
   "cell_type": "code",
   "execution_count": 56,
   "metadata": {},
   "outputs": [
    {
     "data": {
      "text/plain": [
       "[[0],\n",
       " [0],\n",
       " [0],\n",
       " [0],\n",
       " [0],\n",
       " [0],\n",
       " [0],\n",
       " [0],\n",
       " [0],\n",
       " [1],\n",
       " [0],\n",
       " [0],\n",
       " [0],\n",
       " [0],\n",
       " [1],\n",
       " [1],\n",
       " [1],\n",
       " [0],\n",
       " [1],\n",
       " [1],\n",
       " [0],\n",
       " [0],\n",
       " [0],\n",
       " [0]]"
      ]
     },
     "execution_count": 56,
     "metadata": {},
     "output_type": "execute_result"
    }
   ],
   "source": [
    "y_test"
   ]
  },
  {
   "cell_type": "code",
   "execution_count": 57,
   "metadata": {},
   "outputs": [
    {
     "data": {
      "text/plain": [
       "[0, 0, 0, 0, 0, 0, 0, 0, 0, 0, 0, 0, 0, 0, 0, 0, 0, 0, 0, 0, 0, 0, 0, 0]"
      ]
     },
     "execution_count": 57,
     "metadata": {},
     "output_type": "execute_result"
    }
   ],
   "source": [
    "pred"
   ]
  },
  {
   "cell_type": "code",
   "execution_count": 58,
   "metadata": {
    "execution": {
     "iopub.execute_input": "2021-10-07T17:34:28.020054Z",
     "iopub.status.busy": "2021-10-07T17:34:28.019747Z",
     "iopub.status.idle": "2021-10-07T17:34:28.027572Z",
     "shell.execute_reply": "2021-10-07T17:34:28.026642Z",
     "shell.execute_reply.started": "2021-10-07T17:34:28.020026Z"
    }
   },
   "outputs": [
    {
     "name": "stdout",
     "output_type": "stream",
     "text": [
      "[[18  0]\n",
      " [ 6  0]]\n"
     ]
    }
   ],
   "source": [
    "from sklearn.metrics import confusion_matrix\n",
    "\n",
    "cm = confusion_matrix(y_test, pred)\n",
    "print(cm)"
   ]
  },
  {
   "cell_type": "code",
   "execution_count": 60,
   "metadata": {},
   "outputs": [
    {
     "data": {
      "text/plain": [
       "<AxesSubplot:>"
      ]
     },
     "execution_count": 60,
     "metadata": {},
     "output_type": "execute_result"
    },
    {
     "data": {
      "image/png": "[encoded data removed]",
      "text/plain": [
       "<Figure size 720x504 with 2 Axes>"
      ]
     },
     "metadata": {
      "needs_background": "light"
     },
     "output_type": "display_data"
    }
   ],
   "source": [
    "import seaborn as sns\n",
    "plt.figure(figsize = (10,7))\n",
    "sns.heatmap(cm, annot=True)"
   ]
  },
  {
   "cell_type": "code",
   "execution_count": null,
   "metadata": {},
   "outputs": [],
   "source": []
  }
 ],
 "metadata": {
  "kernelspec": {
   "display_name": "Python 3",
   "language": "python",
   "name": "python3"
  },
  "language_info": {
   "codemirror_mode": {
    "name": "ipython",
    "version": 3
   },
   "file_extension": ".py",
   "mimetype": "text/x-python",
   "name": "python",
   "nbconvert_exporter": "python",
   "pygments_lexer": "ipython3",
   "version": "3.8.5"
  }
 },
 "nbformat": 4,
 "nbformat_minor": 4
}
